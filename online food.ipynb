{
 "cells": [
  {
   "cell_type": "markdown",
   "metadata": {},
   "source": [
    "## <center><b>ONLINE FOOD DATASET.</b></center>"
   ]
  },
  {
   "cell_type": "markdown",
   "metadata": {},
   "source": [
    "<b>IMPORT LIBRARY PACKAGES</b>"
   ]
  },
  {
   "cell_type": "code",
   "execution_count": 32,
   "metadata": {},
   "outputs": [],
   "source": [
    "import numpy as np\n",
    "import pandas as pd\n",
    "import seaborn as sns\n",
    "import plotly.express as px\n",
    "import matplotlib.pyplot as plt\n",
    "import warnings\n",
    "warnings.filterwarnings('always') \n",
    "import shap\n",
    "import pickle\n",
    "\n",
    "# Model Classifier\n",
    "from sklearn.svm import SVC\n",
    "from collections import Counter\n",
    "from xgboost import XGBClassifier\n",
    "from sklearn.utils import resample\n",
    "from sklearn.pipeline import Pipeline\n",
    "from sklearn.naive_bayes import MultinomialNB\n",
    "from sklearn.preprocessing import LabelEncoder\n",
    "from sklearn.preprocessing import StandardScaler\n",
    "from imblearn import under_sampling, over_sampling\n",
    "from sklearn.neighbors import KNeighborsClassifier\n",
    "from sklearn.ensemble import RandomForestClassifier\n",
    "from sklearn.linear_model import LogisticRegression\n",
    "from imblearn.over_sampling import RandomOverSampler\n",
    "from sklearn.model_selection import train_test_split, cross_val_score, GridSearchCV\n",
    "from sklearn.metrics import accuracy_score, classification_report, confusion_matrix, roc_auc_score\n",
    "\n",
    "from flask import Flask, render_template, request"
   ]
  },
  {
   "cell_type": "markdown",
   "metadata": {},
   "source": [
    "<b>LOAD & DISPLAY DATA</b>"
   ]
  },
  {
   "cell_type": "code",
   "execution_count": 33,
   "metadata": {},
   "outputs": [
    {
     "data": {
      "text/html": [
       "<div>\n",
       "<style scoped>\n",
       "    .dataframe tbody tr th:only-of-type {\n",
       "        vertical-align: middle;\n",
       "    }\n",
       "\n",
       "    .dataframe tbody tr th {\n",
       "        vertical-align: top;\n",
       "    }\n",
       "\n",
       "    .dataframe thead th {\n",
       "        text-align: right;\n",
       "    }\n",
       "</style>\n",
       "<table border=\"1\" class=\"dataframe\">\n",
       "  <thead>\n",
       "    <tr style=\"text-align: right;\">\n",
       "      <th></th>\n",
       "      <th>Age</th>\n",
       "      <th>Gender</th>\n",
       "      <th>Marital Status</th>\n",
       "      <th>Occupation</th>\n",
       "      <th>Monthly Income</th>\n",
       "      <th>Educational Qualifications</th>\n",
       "      <th>Family size</th>\n",
       "      <th>latitude</th>\n",
       "      <th>longitude</th>\n",
       "      <th>Pin code</th>\n",
       "      <th>Output</th>\n",
       "      <th>Feedback</th>\n",
       "      <th>Unnamed: 12</th>\n",
       "    </tr>\n",
       "  </thead>\n",
       "  <tbody>\n",
       "    <tr>\n",
       "      <th>0</th>\n",
       "      <td>20</td>\n",
       "      <td>Female</td>\n",
       "      <td>Single</td>\n",
       "      <td>Student</td>\n",
       "      <td>No Income</td>\n",
       "      <td>Post Graduate</td>\n",
       "      <td>4</td>\n",
       "      <td>12.9766</td>\n",
       "      <td>77.5993</td>\n",
       "      <td>560001</td>\n",
       "      <td>Yes</td>\n",
       "      <td>Positive</td>\n",
       "      <td>Yes</td>\n",
       "    </tr>\n",
       "    <tr>\n",
       "      <th>1</th>\n",
       "      <td>24</td>\n",
       "      <td>Female</td>\n",
       "      <td>Single</td>\n",
       "      <td>Student</td>\n",
       "      <td>Below Rs.10000</td>\n",
       "      <td>Graduate</td>\n",
       "      <td>3</td>\n",
       "      <td>12.9770</td>\n",
       "      <td>77.5773</td>\n",
       "      <td>560009</td>\n",
       "      <td>Yes</td>\n",
       "      <td>Positive</td>\n",
       "      <td>Yes</td>\n",
       "    </tr>\n",
       "    <tr>\n",
       "      <th>2</th>\n",
       "      <td>22</td>\n",
       "      <td>Male</td>\n",
       "      <td>Single</td>\n",
       "      <td>Student</td>\n",
       "      <td>Below Rs.10000</td>\n",
       "      <td>Post Graduate</td>\n",
       "      <td>3</td>\n",
       "      <td>12.9551</td>\n",
       "      <td>77.6593</td>\n",
       "      <td>560017</td>\n",
       "      <td>Yes</td>\n",
       "      <td>Negative</td>\n",
       "      <td>Yes</td>\n",
       "    </tr>\n",
       "    <tr>\n",
       "      <th>3</th>\n",
       "      <td>22</td>\n",
       "      <td>Female</td>\n",
       "      <td>Single</td>\n",
       "      <td>Student</td>\n",
       "      <td>No Income</td>\n",
       "      <td>Graduate</td>\n",
       "      <td>6</td>\n",
       "      <td>12.9473</td>\n",
       "      <td>77.5616</td>\n",
       "      <td>560019</td>\n",
       "      <td>Yes</td>\n",
       "      <td>Positive</td>\n",
       "      <td>Yes</td>\n",
       "    </tr>\n",
       "    <tr>\n",
       "      <th>4</th>\n",
       "      <td>22</td>\n",
       "      <td>Male</td>\n",
       "      <td>Single</td>\n",
       "      <td>Student</td>\n",
       "      <td>Below Rs.10000</td>\n",
       "      <td>Post Graduate</td>\n",
       "      <td>4</td>\n",
       "      <td>12.9850</td>\n",
       "      <td>77.5533</td>\n",
       "      <td>560010</td>\n",
       "      <td>Yes</td>\n",
       "      <td>Positive</td>\n",
       "      <td>Yes</td>\n",
       "    </tr>\n",
       "  </tbody>\n",
       "</table>\n",
       "</div>"
      ],
      "text/plain": [
       "   Age  Gender Marital Status Occupation  Monthly Income  \\\n",
       "0   20  Female         Single    Student       No Income   \n",
       "1   24  Female         Single    Student  Below Rs.10000   \n",
       "2   22    Male         Single    Student  Below Rs.10000   \n",
       "3   22  Female         Single    Student       No Income   \n",
       "4   22    Male         Single    Student  Below Rs.10000   \n",
       "\n",
       "  Educational Qualifications  Family size  latitude  longitude  Pin code  \\\n",
       "0              Post Graduate            4   12.9766    77.5993    560001   \n",
       "1                   Graduate            3   12.9770    77.5773    560009   \n",
       "2              Post Graduate            3   12.9551    77.6593    560017   \n",
       "3                   Graduate            6   12.9473    77.5616    560019   \n",
       "4              Post Graduate            4   12.9850    77.5533    560010   \n",
       "\n",
       "  Output   Feedback Unnamed: 12  \n",
       "0    Yes   Positive         Yes  \n",
       "1    Yes   Positive         Yes  \n",
       "2    Yes  Negative          Yes  \n",
       "3    Yes   Positive         Yes  \n",
       "4    Yes   Positive         Yes  "
      ]
     },
     "execution_count": 33,
     "metadata": {},
     "output_type": "execute_result"
    }
   ],
   "source": [
    "online_food = pd.read_csv('onlinefoods.csv')\n",
    "online_food.head()"
   ]
  },
  {
   "cell_type": "markdown",
   "metadata": {},
   "source": [
    "##### <b> DATA EXPLORATION </b>"
   ]
  },
  {
   "cell_type": "markdown",
   "metadata": {},
   "source": [
    "TOTAL ROWS AND COLUMNS"
   ]
  },
  {
   "cell_type": "code",
   "execution_count": 34,
   "metadata": {},
   "outputs": [
    {
     "name": "stdout",
     "output_type": "stream",
     "text": [
      "The total number of rows and columns is (388, 13) respectively.\n"
     ]
    }
   ],
   "source": [
    "print('The total number of rows and columns is',online_food.shape,'respectively.')"
   ]
  },
  {
   "cell_type": "markdown",
   "metadata": {},
   "source": [
    "<b>DATA SUMMARY</b>\n",
    "\n",
    "This section will provide us with all the necessary information about this dataset."
   ]
  },
  {
   "cell_type": "code",
   "execution_count": 35,
   "metadata": {},
   "outputs": [
    {
     "name": "stdout",
     "output_type": "stream",
     "text": [
      "<class 'pandas.core.frame.DataFrame'>\n",
      "RangeIndex: 388 entries, 0 to 387\n",
      "Data columns (total 13 columns):\n",
      " #   Column                      Non-Null Count  Dtype  \n",
      "---  ------                      --------------  -----  \n",
      " 0   Age                         388 non-null    int64  \n",
      " 1   Gender                      388 non-null    object \n",
      " 2   Marital Status              388 non-null    object \n",
      " 3   Occupation                  388 non-null    object \n",
      " 4   Monthly Income              388 non-null    object \n",
      " 5   Educational Qualifications  388 non-null    object \n",
      " 6   Family size                 388 non-null    int64  \n",
      " 7   latitude                    388 non-null    float64\n",
      " 8   longitude                   388 non-null    float64\n",
      " 9   Pin code                    388 non-null    int64  \n",
      " 10  Output                      388 non-null    object \n",
      " 11  Feedback                    388 non-null    object \n",
      " 12  Unnamed: 12                 388 non-null    object \n",
      "dtypes: float64(2), int64(3), object(8)\n",
      "memory usage: 39.5+ KB\n"
     ]
    }
   ],
   "source": [
    "online_food.info()"
   ]
  },
  {
   "cell_type": "markdown",
   "metadata": {},
   "source": [
    "MISSING VALUES"
   ]
  },
  {
   "cell_type": "code",
   "execution_count": 36,
   "metadata": {},
   "outputs": [
    {
     "data": {
      "text/html": [
       "<div>\n",
       "<style scoped>\n",
       "    .dataframe tbody tr th:only-of-type {\n",
       "        vertical-align: middle;\n",
       "    }\n",
       "\n",
       "    .dataframe tbody tr th {\n",
       "        vertical-align: top;\n",
       "    }\n",
       "\n",
       "    .dataframe thead th {\n",
       "        text-align: right;\n",
       "    }\n",
       "</style>\n",
       "<table border=\"1\" class=\"dataframe\">\n",
       "  <thead>\n",
       "    <tr style=\"text-align: right;\">\n",
       "      <th></th>\n",
       "      <th>Age</th>\n",
       "      <th>Gender</th>\n",
       "      <th>Marital Status</th>\n",
       "      <th>Occupation</th>\n",
       "      <th>Monthly Income</th>\n",
       "      <th>Educational Qualifications</th>\n",
       "      <th>Family size</th>\n",
       "      <th>latitude</th>\n",
       "      <th>longitude</th>\n",
       "      <th>Pin code</th>\n",
       "      <th>Output</th>\n",
       "      <th>Feedback</th>\n",
       "      <th>Unnamed: 12</th>\n",
       "    </tr>\n",
       "  </thead>\n",
       "  <tbody>\n",
       "    <tr>\n",
       "      <th>0</th>\n",
       "      <td>False</td>\n",
       "      <td>False</td>\n",
       "      <td>False</td>\n",
       "      <td>False</td>\n",
       "      <td>False</td>\n",
       "      <td>False</td>\n",
       "      <td>False</td>\n",
       "      <td>False</td>\n",
       "      <td>False</td>\n",
       "      <td>False</td>\n",
       "      <td>False</td>\n",
       "      <td>False</td>\n",
       "      <td>False</td>\n",
       "    </tr>\n",
       "    <tr>\n",
       "      <th>1</th>\n",
       "      <td>False</td>\n",
       "      <td>False</td>\n",
       "      <td>False</td>\n",
       "      <td>False</td>\n",
       "      <td>False</td>\n",
       "      <td>False</td>\n",
       "      <td>False</td>\n",
       "      <td>False</td>\n",
       "      <td>False</td>\n",
       "      <td>False</td>\n",
       "      <td>False</td>\n",
       "      <td>False</td>\n",
       "      <td>False</td>\n",
       "    </tr>\n",
       "    <tr>\n",
       "      <th>2</th>\n",
       "      <td>False</td>\n",
       "      <td>False</td>\n",
       "      <td>False</td>\n",
       "      <td>False</td>\n",
       "      <td>False</td>\n",
       "      <td>False</td>\n",
       "      <td>False</td>\n",
       "      <td>False</td>\n",
       "      <td>False</td>\n",
       "      <td>False</td>\n",
       "      <td>False</td>\n",
       "      <td>False</td>\n",
       "      <td>False</td>\n",
       "    </tr>\n",
       "    <tr>\n",
       "      <th>3</th>\n",
       "      <td>False</td>\n",
       "      <td>False</td>\n",
       "      <td>False</td>\n",
       "      <td>False</td>\n",
       "      <td>False</td>\n",
       "      <td>False</td>\n",
       "      <td>False</td>\n",
       "      <td>False</td>\n",
       "      <td>False</td>\n",
       "      <td>False</td>\n",
       "      <td>False</td>\n",
       "      <td>False</td>\n",
       "      <td>False</td>\n",
       "    </tr>\n",
       "    <tr>\n",
       "      <th>4</th>\n",
       "      <td>False</td>\n",
       "      <td>False</td>\n",
       "      <td>False</td>\n",
       "      <td>False</td>\n",
       "      <td>False</td>\n",
       "      <td>False</td>\n",
       "      <td>False</td>\n",
       "      <td>False</td>\n",
       "      <td>False</td>\n",
       "      <td>False</td>\n",
       "      <td>False</td>\n",
       "      <td>False</td>\n",
       "      <td>False</td>\n",
       "    </tr>\n",
       "    <tr>\n",
       "      <th>...</th>\n",
       "      <td>...</td>\n",
       "      <td>...</td>\n",
       "      <td>...</td>\n",
       "      <td>...</td>\n",
       "      <td>...</td>\n",
       "      <td>...</td>\n",
       "      <td>...</td>\n",
       "      <td>...</td>\n",
       "      <td>...</td>\n",
       "      <td>...</td>\n",
       "      <td>...</td>\n",
       "      <td>...</td>\n",
       "      <td>...</td>\n",
       "    </tr>\n",
       "    <tr>\n",
       "      <th>383</th>\n",
       "      <td>False</td>\n",
       "      <td>False</td>\n",
       "      <td>False</td>\n",
       "      <td>False</td>\n",
       "      <td>False</td>\n",
       "      <td>False</td>\n",
       "      <td>False</td>\n",
       "      <td>False</td>\n",
       "      <td>False</td>\n",
       "      <td>False</td>\n",
       "      <td>False</td>\n",
       "      <td>False</td>\n",
       "      <td>False</td>\n",
       "    </tr>\n",
       "    <tr>\n",
       "      <th>384</th>\n",
       "      <td>False</td>\n",
       "      <td>False</td>\n",
       "      <td>False</td>\n",
       "      <td>False</td>\n",
       "      <td>False</td>\n",
       "      <td>False</td>\n",
       "      <td>False</td>\n",
       "      <td>False</td>\n",
       "      <td>False</td>\n",
       "      <td>False</td>\n",
       "      <td>False</td>\n",
       "      <td>False</td>\n",
       "      <td>False</td>\n",
       "    </tr>\n",
       "    <tr>\n",
       "      <th>385</th>\n",
       "      <td>False</td>\n",
       "      <td>False</td>\n",
       "      <td>False</td>\n",
       "      <td>False</td>\n",
       "      <td>False</td>\n",
       "      <td>False</td>\n",
       "      <td>False</td>\n",
       "      <td>False</td>\n",
       "      <td>False</td>\n",
       "      <td>False</td>\n",
       "      <td>False</td>\n",
       "      <td>False</td>\n",
       "      <td>False</td>\n",
       "    </tr>\n",
       "    <tr>\n",
       "      <th>386</th>\n",
       "      <td>False</td>\n",
       "      <td>False</td>\n",
       "      <td>False</td>\n",
       "      <td>False</td>\n",
       "      <td>False</td>\n",
       "      <td>False</td>\n",
       "      <td>False</td>\n",
       "      <td>False</td>\n",
       "      <td>False</td>\n",
       "      <td>False</td>\n",
       "      <td>False</td>\n",
       "      <td>False</td>\n",
       "      <td>False</td>\n",
       "    </tr>\n",
       "    <tr>\n",
       "      <th>387</th>\n",
       "      <td>False</td>\n",
       "      <td>False</td>\n",
       "      <td>False</td>\n",
       "      <td>False</td>\n",
       "      <td>False</td>\n",
       "      <td>False</td>\n",
       "      <td>False</td>\n",
       "      <td>False</td>\n",
       "      <td>False</td>\n",
       "      <td>False</td>\n",
       "      <td>False</td>\n",
       "      <td>False</td>\n",
       "      <td>False</td>\n",
       "    </tr>\n",
       "  </tbody>\n",
       "</table>\n",
       "<p>388 rows × 13 columns</p>\n",
       "</div>"
      ],
      "text/plain": [
       "       Age  Gender  Marital Status  Occupation  Monthly Income  \\\n",
       "0    False   False           False       False           False   \n",
       "1    False   False           False       False           False   \n",
       "2    False   False           False       False           False   \n",
       "3    False   False           False       False           False   \n",
       "4    False   False           False       False           False   \n",
       "..     ...     ...             ...         ...             ...   \n",
       "383  False   False           False       False           False   \n",
       "384  False   False           False       False           False   \n",
       "385  False   False           False       False           False   \n",
       "386  False   False           False       False           False   \n",
       "387  False   False           False       False           False   \n",
       "\n",
       "     Educational Qualifications  Family size  latitude  longitude  Pin code  \\\n",
       "0                         False        False     False      False     False   \n",
       "1                         False        False     False      False     False   \n",
       "2                         False        False     False      False     False   \n",
       "3                         False        False     False      False     False   \n",
       "4                         False        False     False      False     False   \n",
       "..                          ...          ...       ...        ...       ...   \n",
       "383                       False        False     False      False     False   \n",
       "384                       False        False     False      False     False   \n",
       "385                       False        False     False      False     False   \n",
       "386                       False        False     False      False     False   \n",
       "387                       False        False     False      False     False   \n",
       "\n",
       "     Output  Feedback  Unnamed: 12  \n",
       "0     False     False        False  \n",
       "1     False     False        False  \n",
       "2     False     False        False  \n",
       "3     False     False        False  \n",
       "4     False     False        False  \n",
       "..      ...       ...          ...  \n",
       "383   False     False        False  \n",
       "384   False     False        False  \n",
       "385   False     False        False  \n",
       "386   False     False        False  \n",
       "387   False     False        False  \n",
       "\n",
       "[388 rows x 13 columns]"
      ]
     },
     "execution_count": 36,
     "metadata": {},
     "output_type": "execute_result"
    }
   ],
   "source": [
    "online_food.isna()"
   ]
  },
  {
   "cell_type": "markdown",
   "metadata": {},
   "source": [
    "TOTAL SUM OF MISSING VALUES"
   ]
  },
  {
   "cell_type": "code",
   "execution_count": 37,
   "metadata": {},
   "outputs": [
    {
     "data": {
      "text/plain": [
       "Age                           0\n",
       "Gender                        0\n",
       "Marital Status                0\n",
       "Occupation                    0\n",
       "Monthly Income                0\n",
       "Educational Qualifications    0\n",
       "Family size                   0\n",
       "latitude                      0\n",
       "longitude                     0\n",
       "Pin code                      0\n",
       "Output                        0\n",
       "Feedback                      0\n",
       "Unnamed: 12                   0\n",
       "dtype: int64"
      ]
     },
     "execution_count": 37,
     "metadata": {},
     "output_type": "execute_result"
    }
   ],
   "source": [
    "online_food.isna().sum()"
   ]
  },
  {
   "cell_type": "markdown",
   "metadata": {},
   "source": [
    "CHECK FOR DUPLICATE ROWS"
   ]
  },
  {
   "cell_type": "code",
   "execution_count": 38,
   "metadata": {},
   "outputs": [
    {
     "name": "stdout",
     "output_type": "stream",
     "text": [
      "There are 103 duplicate values in this dataset.\n"
     ]
    }
   ],
   "source": [
    "print (\"There are\",online_food.duplicated().sum(), \"duplicate values in this dataset.\")"
   ]
  },
  {
   "cell_type": "markdown",
   "metadata": {},
   "source": [
    "DISPLAY DUPLICATES ROWS"
   ]
  },
  {
   "cell_type": "code",
   "execution_count": 39,
   "metadata": {},
   "outputs": [
    {
     "data": {
      "text/html": [
       "<div>\n",
       "<style scoped>\n",
       "    .dataframe tbody tr th:only-of-type {\n",
       "        vertical-align: middle;\n",
       "    }\n",
       "\n",
       "    .dataframe tbody tr th {\n",
       "        vertical-align: top;\n",
       "    }\n",
       "\n",
       "    .dataframe thead th {\n",
       "        text-align: right;\n",
       "    }\n",
       "</style>\n",
       "<table border=\"1\" class=\"dataframe\">\n",
       "  <thead>\n",
       "    <tr style=\"text-align: right;\">\n",
       "      <th></th>\n",
       "      <th>Age</th>\n",
       "      <th>Gender</th>\n",
       "      <th>Marital Status</th>\n",
       "      <th>Occupation</th>\n",
       "      <th>Monthly Income</th>\n",
       "      <th>Educational Qualifications</th>\n",
       "      <th>Family size</th>\n",
       "      <th>latitude</th>\n",
       "      <th>longitude</th>\n",
       "      <th>Pin code</th>\n",
       "      <th>Output</th>\n",
       "      <th>Feedback</th>\n",
       "      <th>Unnamed: 12</th>\n",
       "    </tr>\n",
       "  </thead>\n",
       "  <tbody>\n",
       "    <tr>\n",
       "      <th>2</th>\n",
       "      <td>22</td>\n",
       "      <td>Male</td>\n",
       "      <td>Single</td>\n",
       "      <td>Student</td>\n",
       "      <td>Below Rs.10000</td>\n",
       "      <td>Post Graduate</td>\n",
       "      <td>3</td>\n",
       "      <td>12.9551</td>\n",
       "      <td>77.6593</td>\n",
       "      <td>560017</td>\n",
       "      <td>Yes</td>\n",
       "      <td>Negative</td>\n",
       "      <td>Yes</td>\n",
       "    </tr>\n",
       "    <tr>\n",
       "      <th>3</th>\n",
       "      <td>22</td>\n",
       "      <td>Female</td>\n",
       "      <td>Single</td>\n",
       "      <td>Student</td>\n",
       "      <td>No Income</td>\n",
       "      <td>Graduate</td>\n",
       "      <td>6</td>\n",
       "      <td>12.9473</td>\n",
       "      <td>77.5616</td>\n",
       "      <td>560019</td>\n",
       "      <td>Yes</td>\n",
       "      <td>Positive</td>\n",
       "      <td>Yes</td>\n",
       "    </tr>\n",
       "    <tr>\n",
       "      <th>4</th>\n",
       "      <td>22</td>\n",
       "      <td>Male</td>\n",
       "      <td>Single</td>\n",
       "      <td>Student</td>\n",
       "      <td>Below Rs.10000</td>\n",
       "      <td>Post Graduate</td>\n",
       "      <td>4</td>\n",
       "      <td>12.9850</td>\n",
       "      <td>77.5533</td>\n",
       "      <td>560010</td>\n",
       "      <td>Yes</td>\n",
       "      <td>Positive</td>\n",
       "      <td>Yes</td>\n",
       "    </tr>\n",
       "    <tr>\n",
       "      <th>5</th>\n",
       "      <td>27</td>\n",
       "      <td>Female</td>\n",
       "      <td>Married</td>\n",
       "      <td>Employee</td>\n",
       "      <td>More than 50000</td>\n",
       "      <td>Post Graduate</td>\n",
       "      <td>2</td>\n",
       "      <td>12.9299</td>\n",
       "      <td>77.6848</td>\n",
       "      <td>560103</td>\n",
       "      <td>Yes</td>\n",
       "      <td>Positive</td>\n",
       "      <td>Yes</td>\n",
       "    </tr>\n",
       "    <tr>\n",
       "      <th>6</th>\n",
       "      <td>22</td>\n",
       "      <td>Male</td>\n",
       "      <td>Single</td>\n",
       "      <td>Student</td>\n",
       "      <td>No Income</td>\n",
       "      <td>Graduate</td>\n",
       "      <td>3</td>\n",
       "      <td>12.9770</td>\n",
       "      <td>77.5773</td>\n",
       "      <td>560009</td>\n",
       "      <td>Yes</td>\n",
       "      <td>Positive</td>\n",
       "      <td>Yes</td>\n",
       "    </tr>\n",
       "    <tr>\n",
       "      <th>...</th>\n",
       "      <td>...</td>\n",
       "      <td>...</td>\n",
       "      <td>...</td>\n",
       "      <td>...</td>\n",
       "      <td>...</td>\n",
       "      <td>...</td>\n",
       "      <td>...</td>\n",
       "      <td>...</td>\n",
       "      <td>...</td>\n",
       "      <td>...</td>\n",
       "      <td>...</td>\n",
       "      <td>...</td>\n",
       "      <td>...</td>\n",
       "    </tr>\n",
       "    <tr>\n",
       "      <th>382</th>\n",
       "      <td>24</td>\n",
       "      <td>Female</td>\n",
       "      <td>Single</td>\n",
       "      <td>Student</td>\n",
       "      <td>No Income</td>\n",
       "      <td>Post Graduate</td>\n",
       "      <td>3</td>\n",
       "      <td>12.9828</td>\n",
       "      <td>77.6131</td>\n",
       "      <td>560042</td>\n",
       "      <td>Yes</td>\n",
       "      <td>Positive</td>\n",
       "      <td>Yes</td>\n",
       "    </tr>\n",
       "    <tr>\n",
       "      <th>383</th>\n",
       "      <td>23</td>\n",
       "      <td>Female</td>\n",
       "      <td>Single</td>\n",
       "      <td>Student</td>\n",
       "      <td>No Income</td>\n",
       "      <td>Post Graduate</td>\n",
       "      <td>2</td>\n",
       "      <td>12.9766</td>\n",
       "      <td>77.5993</td>\n",
       "      <td>560001</td>\n",
       "      <td>Yes</td>\n",
       "      <td>Positive</td>\n",
       "      <td>Yes</td>\n",
       "    </tr>\n",
       "    <tr>\n",
       "      <th>384</th>\n",
       "      <td>23</td>\n",
       "      <td>Female</td>\n",
       "      <td>Single</td>\n",
       "      <td>Student</td>\n",
       "      <td>No Income</td>\n",
       "      <td>Post Graduate</td>\n",
       "      <td>4</td>\n",
       "      <td>12.9854</td>\n",
       "      <td>77.7081</td>\n",
       "      <td>560048</td>\n",
       "      <td>Yes</td>\n",
       "      <td>Positive</td>\n",
       "      <td>Yes</td>\n",
       "    </tr>\n",
       "    <tr>\n",
       "      <th>385</th>\n",
       "      <td>22</td>\n",
       "      <td>Female</td>\n",
       "      <td>Single</td>\n",
       "      <td>Student</td>\n",
       "      <td>No Income</td>\n",
       "      <td>Post Graduate</td>\n",
       "      <td>5</td>\n",
       "      <td>12.9850</td>\n",
       "      <td>77.5533</td>\n",
       "      <td>560010</td>\n",
       "      <td>Yes</td>\n",
       "      <td>Positive</td>\n",
       "      <td>Yes</td>\n",
       "    </tr>\n",
       "    <tr>\n",
       "      <th>387</th>\n",
       "      <td>23</td>\n",
       "      <td>Male</td>\n",
       "      <td>Single</td>\n",
       "      <td>Student</td>\n",
       "      <td>No Income</td>\n",
       "      <td>Post Graduate</td>\n",
       "      <td>5</td>\n",
       "      <td>12.8988</td>\n",
       "      <td>77.5764</td>\n",
       "      <td>560078</td>\n",
       "      <td>Yes</td>\n",
       "      <td>Positive</td>\n",
       "      <td>Yes</td>\n",
       "    </tr>\n",
       "  </tbody>\n",
       "</table>\n",
       "<p>169 rows × 13 columns</p>\n",
       "</div>"
      ],
      "text/plain": [
       "     Age  Gender Marital Status Occupation   Monthly Income  \\\n",
       "2     22    Male         Single    Student   Below Rs.10000   \n",
       "3     22  Female         Single    Student        No Income   \n",
       "4     22    Male         Single    Student   Below Rs.10000   \n",
       "5     27  Female        Married   Employee  More than 50000   \n",
       "6     22    Male         Single    Student        No Income   \n",
       "..   ...     ...            ...        ...              ...   \n",
       "382   24  Female         Single    Student        No Income   \n",
       "383   23  Female         Single    Student        No Income   \n",
       "384   23  Female         Single    Student        No Income   \n",
       "385   22  Female         Single    Student        No Income   \n",
       "387   23    Male         Single    Student        No Income   \n",
       "\n",
       "    Educational Qualifications  Family size  latitude  longitude  Pin code  \\\n",
       "2                Post Graduate            3   12.9551    77.6593    560017   \n",
       "3                     Graduate            6   12.9473    77.5616    560019   \n",
       "4                Post Graduate            4   12.9850    77.5533    560010   \n",
       "5                Post Graduate            2   12.9299    77.6848    560103   \n",
       "6                     Graduate            3   12.9770    77.5773    560009   \n",
       "..                         ...          ...       ...        ...       ...   \n",
       "382              Post Graduate            3   12.9828    77.6131    560042   \n",
       "383              Post Graduate            2   12.9766    77.5993    560001   \n",
       "384              Post Graduate            4   12.9854    77.7081    560048   \n",
       "385              Post Graduate            5   12.9850    77.5533    560010   \n",
       "387              Post Graduate            5   12.8988    77.5764    560078   \n",
       "\n",
       "    Output   Feedback Unnamed: 12  \n",
       "2      Yes  Negative          Yes  \n",
       "3      Yes   Positive         Yes  \n",
       "4      Yes   Positive         Yes  \n",
       "5      Yes   Positive         Yes  \n",
       "6      Yes   Positive         Yes  \n",
       "..     ...        ...         ...  \n",
       "382    Yes   Positive         Yes  \n",
       "383    Yes   Positive         Yes  \n",
       "384    Yes   Positive         Yes  \n",
       "385    Yes   Positive         Yes  \n",
       "387    Yes   Positive         Yes  \n",
       "\n",
       "[169 rows x 13 columns]"
      ]
     },
     "execution_count": 39,
     "metadata": {},
     "output_type": "execute_result"
    }
   ],
   "source": [
    "duplicates = online_food[online_food.duplicated(keep=False)]\n",
    "duplicates"
   ]
  },
  {
   "cell_type": "markdown",
   "metadata": {},
   "source": [
    "INSIGHTS\n",
    "\n",
    "This dataset has no missing values but had 103 duplicates identified."
   ]
  },
  {
   "cell_type": "markdown",
   "metadata": {},
   "source": [
    "SUMMARY STATISTICS"
   ]
  },
  {
   "cell_type": "code",
   "execution_count": 40,
   "metadata": {},
   "outputs": [
    {
     "data": {
      "text/html": [
       "<div>\n",
       "<style scoped>\n",
       "    .dataframe tbody tr th:only-of-type {\n",
       "        vertical-align: middle;\n",
       "    }\n",
       "\n",
       "    .dataframe tbody tr th {\n",
       "        vertical-align: top;\n",
       "    }\n",
       "\n",
       "    .dataframe thead th {\n",
       "        text-align: right;\n",
       "    }\n",
       "</style>\n",
       "<table border=\"1\" class=\"dataframe\">\n",
       "  <thead>\n",
       "    <tr style=\"text-align: right;\">\n",
       "      <th></th>\n",
       "      <th>count</th>\n",
       "      <th>unique</th>\n",
       "      <th>top</th>\n",
       "      <th>freq</th>\n",
       "      <th>mean</th>\n",
       "      <th>std</th>\n",
       "      <th>min</th>\n",
       "      <th>25%</th>\n",
       "      <th>50%</th>\n",
       "      <th>75%</th>\n",
       "      <th>max</th>\n",
       "    </tr>\n",
       "  </thead>\n",
       "  <tbody>\n",
       "    <tr>\n",
       "      <th>Age</th>\n",
       "      <td>388.0</td>\n",
       "      <td>NaN</td>\n",
       "      <td>NaN</td>\n",
       "      <td>NaN</td>\n",
       "      <td>24.628866</td>\n",
       "      <td>2.975593</td>\n",
       "      <td>18.0</td>\n",
       "      <td>23.0</td>\n",
       "      <td>24.0</td>\n",
       "      <td>26.0</td>\n",
       "      <td>33.0</td>\n",
       "    </tr>\n",
       "    <tr>\n",
       "      <th>Gender</th>\n",
       "      <td>388</td>\n",
       "      <td>2</td>\n",
       "      <td>Male</td>\n",
       "      <td>222</td>\n",
       "      <td>NaN</td>\n",
       "      <td>NaN</td>\n",
       "      <td>NaN</td>\n",
       "      <td>NaN</td>\n",
       "      <td>NaN</td>\n",
       "      <td>NaN</td>\n",
       "      <td>NaN</td>\n",
       "    </tr>\n",
       "    <tr>\n",
       "      <th>Marital Status</th>\n",
       "      <td>388</td>\n",
       "      <td>3</td>\n",
       "      <td>Single</td>\n",
       "      <td>268</td>\n",
       "      <td>NaN</td>\n",
       "      <td>NaN</td>\n",
       "      <td>NaN</td>\n",
       "      <td>NaN</td>\n",
       "      <td>NaN</td>\n",
       "      <td>NaN</td>\n",
       "      <td>NaN</td>\n",
       "    </tr>\n",
       "    <tr>\n",
       "      <th>Occupation</th>\n",
       "      <td>388</td>\n",
       "      <td>4</td>\n",
       "      <td>Student</td>\n",
       "      <td>207</td>\n",
       "      <td>NaN</td>\n",
       "      <td>NaN</td>\n",
       "      <td>NaN</td>\n",
       "      <td>NaN</td>\n",
       "      <td>NaN</td>\n",
       "      <td>NaN</td>\n",
       "      <td>NaN</td>\n",
       "    </tr>\n",
       "    <tr>\n",
       "      <th>Monthly Income</th>\n",
       "      <td>388</td>\n",
       "      <td>5</td>\n",
       "      <td>No Income</td>\n",
       "      <td>187</td>\n",
       "      <td>NaN</td>\n",
       "      <td>NaN</td>\n",
       "      <td>NaN</td>\n",
       "      <td>NaN</td>\n",
       "      <td>NaN</td>\n",
       "      <td>NaN</td>\n",
       "      <td>NaN</td>\n",
       "    </tr>\n",
       "    <tr>\n",
       "      <th>Educational Qualifications</th>\n",
       "      <td>388</td>\n",
       "      <td>5</td>\n",
       "      <td>Graduate</td>\n",
       "      <td>177</td>\n",
       "      <td>NaN</td>\n",
       "      <td>NaN</td>\n",
       "      <td>NaN</td>\n",
       "      <td>NaN</td>\n",
       "      <td>NaN</td>\n",
       "      <td>NaN</td>\n",
       "      <td>NaN</td>\n",
       "    </tr>\n",
       "    <tr>\n",
       "      <th>Family size</th>\n",
       "      <td>388.0</td>\n",
       "      <td>NaN</td>\n",
       "      <td>NaN</td>\n",
       "      <td>NaN</td>\n",
       "      <td>3.280928</td>\n",
       "      <td>1.351025</td>\n",
       "      <td>1.0</td>\n",
       "      <td>2.0</td>\n",
       "      <td>3.0</td>\n",
       "      <td>4.0</td>\n",
       "      <td>6.0</td>\n",
       "    </tr>\n",
       "    <tr>\n",
       "      <th>latitude</th>\n",
       "      <td>388.0</td>\n",
       "      <td>NaN</td>\n",
       "      <td>NaN</td>\n",
       "      <td>NaN</td>\n",
       "      <td>12.972058</td>\n",
       "      <td>0.044489</td>\n",
       "      <td>12.8652</td>\n",
       "      <td>12.9369</td>\n",
       "      <td>12.977</td>\n",
       "      <td>12.997025</td>\n",
       "      <td>13.102</td>\n",
       "    </tr>\n",
       "    <tr>\n",
       "      <th>longitude</th>\n",
       "      <td>388.0</td>\n",
       "      <td>NaN</td>\n",
       "      <td>NaN</td>\n",
       "      <td>NaN</td>\n",
       "      <td>77.60016</td>\n",
       "      <td>0.051354</td>\n",
       "      <td>77.4842</td>\n",
       "      <td>77.565275</td>\n",
       "      <td>77.5921</td>\n",
       "      <td>77.6309</td>\n",
       "      <td>77.7582</td>\n",
       "    </tr>\n",
       "    <tr>\n",
       "      <th>Pin code</th>\n",
       "      <td>388.0</td>\n",
       "      <td>NaN</td>\n",
       "      <td>NaN</td>\n",
       "      <td>NaN</td>\n",
       "      <td>560040.113402</td>\n",
       "      <td>31.399609</td>\n",
       "      <td>560001.0</td>\n",
       "      <td>560010.75</td>\n",
       "      <td>560033.5</td>\n",
       "      <td>560068.0</td>\n",
       "      <td>560109.0</td>\n",
       "    </tr>\n",
       "    <tr>\n",
       "      <th>Output</th>\n",
       "      <td>388</td>\n",
       "      <td>2</td>\n",
       "      <td>Yes</td>\n",
       "      <td>301</td>\n",
       "      <td>NaN</td>\n",
       "      <td>NaN</td>\n",
       "      <td>NaN</td>\n",
       "      <td>NaN</td>\n",
       "      <td>NaN</td>\n",
       "      <td>NaN</td>\n",
       "      <td>NaN</td>\n",
       "    </tr>\n",
       "    <tr>\n",
       "      <th>Feedback</th>\n",
       "      <td>388</td>\n",
       "      <td>2</td>\n",
       "      <td>Positive</td>\n",
       "      <td>317</td>\n",
       "      <td>NaN</td>\n",
       "      <td>NaN</td>\n",
       "      <td>NaN</td>\n",
       "      <td>NaN</td>\n",
       "      <td>NaN</td>\n",
       "      <td>NaN</td>\n",
       "      <td>NaN</td>\n",
       "    </tr>\n",
       "    <tr>\n",
       "      <th>Unnamed: 12</th>\n",
       "      <td>388</td>\n",
       "      <td>2</td>\n",
       "      <td>Yes</td>\n",
       "      <td>301</td>\n",
       "      <td>NaN</td>\n",
       "      <td>NaN</td>\n",
       "      <td>NaN</td>\n",
       "      <td>NaN</td>\n",
       "      <td>NaN</td>\n",
       "      <td>NaN</td>\n",
       "      <td>NaN</td>\n",
       "    </tr>\n",
       "  </tbody>\n",
       "</table>\n",
       "</div>"
      ],
      "text/plain": [
       "                            count unique        top freq           mean  \\\n",
       "Age                         388.0    NaN        NaN  NaN      24.628866   \n",
       "Gender                        388      2       Male  222            NaN   \n",
       "Marital Status                388      3     Single  268            NaN   \n",
       "Occupation                    388      4    Student  207            NaN   \n",
       "Monthly Income                388      5  No Income  187            NaN   \n",
       "Educational Qualifications    388      5   Graduate  177            NaN   \n",
       "Family size                 388.0    NaN        NaN  NaN       3.280928   \n",
       "latitude                    388.0    NaN        NaN  NaN      12.972058   \n",
       "longitude                   388.0    NaN        NaN  NaN       77.60016   \n",
       "Pin code                    388.0    NaN        NaN  NaN  560040.113402   \n",
       "Output                        388      2        Yes  301            NaN   \n",
       "Feedback                      388      2   Positive  317            NaN   \n",
       "Unnamed: 12                   388      2        Yes  301            NaN   \n",
       "\n",
       "                                  std       min        25%       50%  \\\n",
       "Age                          2.975593      18.0       23.0      24.0   \n",
       "Gender                            NaN       NaN        NaN       NaN   \n",
       "Marital Status                    NaN       NaN        NaN       NaN   \n",
       "Occupation                        NaN       NaN        NaN       NaN   \n",
       "Monthly Income                    NaN       NaN        NaN       NaN   \n",
       "Educational Qualifications        NaN       NaN        NaN       NaN   \n",
       "Family size                  1.351025       1.0        2.0       3.0   \n",
       "latitude                     0.044489   12.8652    12.9369    12.977   \n",
       "longitude                    0.051354   77.4842  77.565275   77.5921   \n",
       "Pin code                    31.399609  560001.0  560010.75  560033.5   \n",
       "Output                            NaN       NaN        NaN       NaN   \n",
       "Feedback                          NaN       NaN        NaN       NaN   \n",
       "Unnamed: 12                       NaN       NaN        NaN       NaN   \n",
       "\n",
       "                                  75%       max  \n",
       "Age                              26.0      33.0  \n",
       "Gender                            NaN       NaN  \n",
       "Marital Status                    NaN       NaN  \n",
       "Occupation                        NaN       NaN  \n",
       "Monthly Income                    NaN       NaN  \n",
       "Educational Qualifications        NaN       NaN  \n",
       "Family size                       4.0       6.0  \n",
       "latitude                    12.997025    13.102  \n",
       "longitude                     77.6309   77.7582  \n",
       "Pin code                     560068.0  560109.0  \n",
       "Output                            NaN       NaN  \n",
       "Feedback                          NaN       NaN  \n",
       "Unnamed: 12                       NaN       NaN  "
      ]
     },
     "execution_count": 40,
     "metadata": {},
     "output_type": "execute_result"
    }
   ],
   "source": [
    "online_food.describe(include='all').T"
   ]
  },
  {
   "cell_type": "code",
   "execution_count": 41,
   "metadata": {},
   "outputs": [
    {
     "data": {
      "text/plain": [
       "<AxesSubplot: >"
      ]
     },
     "execution_count": 41,
     "metadata": {},
     "output_type": "execute_result"
    }
   ],
   "source": [
    "online_food.boxplot()"
   ]
  },
  {
   "cell_type": "markdown",
   "metadata": {},
   "source": [
    "#### <b> DATA CLEANING </b>\n",
    "\n",
    "Under this section, I will be dropping the last column with the name \"Unnamed: 12\" simply because I am unable to tell the purpose of this column in the dataset."
   ]
  },
  {
   "cell_type": "markdown",
   "metadata": {},
   "source": [
    "DROP UNWANTED COLUMN"
   ]
  },
  {
   "cell_type": "code",
   "execution_count": 42,
   "metadata": {},
   "outputs": [
    {
     "data": {
      "text/html": [
       "<div>\n",
       "<style scoped>\n",
       "    .dataframe tbody tr th:only-of-type {\n",
       "        vertical-align: middle;\n",
       "    }\n",
       "\n",
       "    .dataframe tbody tr th {\n",
       "        vertical-align: top;\n",
       "    }\n",
       "\n",
       "    .dataframe thead th {\n",
       "        text-align: right;\n",
       "    }\n",
       "</style>\n",
       "<table border=\"1\" class=\"dataframe\">\n",
       "  <thead>\n",
       "    <tr style=\"text-align: right;\">\n",
       "      <th></th>\n",
       "      <th>Age</th>\n",
       "      <th>Gender</th>\n",
       "      <th>Marital Status</th>\n",
       "      <th>Occupation</th>\n",
       "      <th>Monthly Income</th>\n",
       "      <th>Educational Qualifications</th>\n",
       "      <th>Family size</th>\n",
       "      <th>latitude</th>\n",
       "      <th>longitude</th>\n",
       "      <th>Pin code</th>\n",
       "      <th>Output</th>\n",
       "      <th>Feedback</th>\n",
       "    </tr>\n",
       "  </thead>\n",
       "  <tbody>\n",
       "    <tr>\n",
       "      <th>0</th>\n",
       "      <td>20</td>\n",
       "      <td>Female</td>\n",
       "      <td>Single</td>\n",
       "      <td>Student</td>\n",
       "      <td>No Income</td>\n",
       "      <td>Post Graduate</td>\n",
       "      <td>4</td>\n",
       "      <td>12.9766</td>\n",
       "      <td>77.5993</td>\n",
       "      <td>560001</td>\n",
       "      <td>Yes</td>\n",
       "      <td>Positive</td>\n",
       "    </tr>\n",
       "    <tr>\n",
       "      <th>1</th>\n",
       "      <td>24</td>\n",
       "      <td>Female</td>\n",
       "      <td>Single</td>\n",
       "      <td>Student</td>\n",
       "      <td>Below Rs.10000</td>\n",
       "      <td>Graduate</td>\n",
       "      <td>3</td>\n",
       "      <td>12.9770</td>\n",
       "      <td>77.5773</td>\n",
       "      <td>560009</td>\n",
       "      <td>Yes</td>\n",
       "      <td>Positive</td>\n",
       "    </tr>\n",
       "    <tr>\n",
       "      <th>2</th>\n",
       "      <td>22</td>\n",
       "      <td>Male</td>\n",
       "      <td>Single</td>\n",
       "      <td>Student</td>\n",
       "      <td>Below Rs.10000</td>\n",
       "      <td>Post Graduate</td>\n",
       "      <td>3</td>\n",
       "      <td>12.9551</td>\n",
       "      <td>77.6593</td>\n",
       "      <td>560017</td>\n",
       "      <td>Yes</td>\n",
       "      <td>Negative</td>\n",
       "    </tr>\n",
       "    <tr>\n",
       "      <th>3</th>\n",
       "      <td>22</td>\n",
       "      <td>Female</td>\n",
       "      <td>Single</td>\n",
       "      <td>Student</td>\n",
       "      <td>No Income</td>\n",
       "      <td>Graduate</td>\n",
       "      <td>6</td>\n",
       "      <td>12.9473</td>\n",
       "      <td>77.5616</td>\n",
       "      <td>560019</td>\n",
       "      <td>Yes</td>\n",
       "      <td>Positive</td>\n",
       "    </tr>\n",
       "    <tr>\n",
       "      <th>4</th>\n",
       "      <td>22</td>\n",
       "      <td>Male</td>\n",
       "      <td>Single</td>\n",
       "      <td>Student</td>\n",
       "      <td>Below Rs.10000</td>\n",
       "      <td>Post Graduate</td>\n",
       "      <td>4</td>\n",
       "      <td>12.9850</td>\n",
       "      <td>77.5533</td>\n",
       "      <td>560010</td>\n",
       "      <td>Yes</td>\n",
       "      <td>Positive</td>\n",
       "    </tr>\n",
       "  </tbody>\n",
       "</table>\n",
       "</div>"
      ],
      "text/plain": [
       "   Age  Gender Marital Status Occupation  Monthly Income  \\\n",
       "0   20  Female         Single    Student       No Income   \n",
       "1   24  Female         Single    Student  Below Rs.10000   \n",
       "2   22    Male         Single    Student  Below Rs.10000   \n",
       "3   22  Female         Single    Student       No Income   \n",
       "4   22    Male         Single    Student  Below Rs.10000   \n",
       "\n",
       "  Educational Qualifications  Family size  latitude  longitude  Pin code  \\\n",
       "0              Post Graduate            4   12.9766    77.5993    560001   \n",
       "1                   Graduate            3   12.9770    77.5773    560009   \n",
       "2              Post Graduate            3   12.9551    77.6593    560017   \n",
       "3                   Graduate            6   12.9473    77.5616    560019   \n",
       "4              Post Graduate            4   12.9850    77.5533    560010   \n",
       "\n",
       "  Output   Feedback  \n",
       "0    Yes   Positive  \n",
       "1    Yes   Positive  \n",
       "2    Yes  Negative   \n",
       "3    Yes   Positive  \n",
       "4    Yes   Positive  "
      ]
     },
     "execution_count": 42,
     "metadata": {},
     "output_type": "execute_result"
    }
   ],
   "source": [
    "online_food.drop (columns=['Unnamed: 12'], inplace = True)\n",
    "online_food.head()"
   ]
  },
  {
   "cell_type": "markdown",
   "metadata": {},
   "source": [
    "#### <b>EXPLORATORY DATA ANALYSIS, (E.D.A)</b>"
   ]
  },
  {
   "cell_type": "markdown",
   "metadata": {},
   "source": [
    "UNIVARIATE ANALYSIS"
   ]
  },
  {
   "cell_type": "code",
   "execution_count": 43,
   "metadata": {},
   "outputs": [
    {
     "data": {
      "application/vnd.plotly.v1+json": {
       "config": {
        "plotlyServerURL": "https://plot.ly"
       },
       "data": [
        {
         "alignmentgroup": "True",
         "hovertemplate": "Age=%{marker.color}<br>Number of People=%{y}<extra></extra>",
         "legendgroup": "",
         "marker": {
          "color": [
           23,
           22,
           25,
           24,
           26,
           21,
           27,
           32,
           28,
           29,
           20,
           30,
           31,
           19,
           18,
           33
          ],
          "coloraxis": "coloraxis",
          "pattern": {
           "shape": ""
          }
         },
         "name": "",
         "offsetgroup": "",
         "orientation": "v",
         "showlegend": false,
         "textposition": "auto",
         "type": "bar",
         "x": [
          23,
          22,
          25,
          24,
          26,
          21,
          27,
          32,
          28,
          29,
          20,
          30,
          31,
          19,
          18,
          33
         ],
         "xaxis": "x",
         "y": [
          73,
          57,
          52,
          50,
          35,
          23,
          21,
          16,
          15,
          14,
          9,
          9,
          8,
          4,
          1,
          1
         ],
         "yaxis": "y"
        }
       ],
       "layout": {
        "barmode": "relative",
        "coloraxis": {
         "colorbar": {
          "title": {
           "text": "Age"
          }
         },
         "colorscale": [
          [
           0,
           "#440154"
          ],
          [
           0.1111111111111111,
           "#482878"
          ],
          [
           0.2222222222222222,
           "#3e4989"
          ],
          [
           0.3333333333333333,
           "#31688e"
          ],
          [
           0.4444444444444444,
           "#26828e"
          ],
          [
           0.5555555555555556,
           "#1f9e89"
          ],
          [
           0.6666666666666666,
           "#35b779"
          ],
          [
           0.7777777777777778,
           "#6ece58"
          ],
          [
           0.8888888888888888,
           "#b5de2b"
          ],
          [
           1,
           "#fde725"
          ]
         ]
        },
        "legend": {
         "tracegroupgap": 0
        },
        "template": {
         "data": {
          "bar": [
           {
            "error_x": {
             "color": "#2a3f5f"
            },
            "error_y": {
             "color": "#2a3f5f"
            },
            "marker": {
             "line": {
              "color": "#E5ECF6",
              "width": 0.5
             },
             "pattern": {
              "fillmode": "overlay",
              "size": 10,
              "solidity": 0.2
             }
            },
            "type": "bar"
           }
          ],
          "barpolar": [
           {
            "marker": {
             "line": {
              "color": "#E5ECF6",
              "width": 0.5
             },
             "pattern": {
              "fillmode": "overlay",
              "size": 10,
              "solidity": 0.2
             }
            },
            "type": "barpolar"
           }
          ],
          "carpet": [
           {
            "aaxis": {
             "endlinecolor": "#2a3f5f",
             "gridcolor": "white",
             "linecolor": "white",
             "minorgridcolor": "white",
             "startlinecolor": "#2a3f5f"
            },
            "baxis": {
             "endlinecolor": "#2a3f5f",
             "gridcolor": "white",
             "linecolor": "white",
             "minorgridcolor": "white",
             "startlinecolor": "#2a3f5f"
            },
            "type": "carpet"
           }
          ],
          "choropleth": [
           {
            "colorbar": {
             "outlinewidth": 0,
             "ticks": ""
            },
            "type": "choropleth"
           }
          ],
          "contour": [
           {
            "colorbar": {
             "outlinewidth": 0,
             "ticks": ""
            },
            "colorscale": [
             [
              0,
              "#0d0887"
             ],
             [
              0.1111111111111111,
              "#46039f"
             ],
             [
              0.2222222222222222,
              "#7201a8"
             ],
             [
              0.3333333333333333,
              "#9c179e"
             ],
             [
              0.4444444444444444,
              "#bd3786"
             ],
             [
              0.5555555555555556,
              "#d8576b"
             ],
             [
              0.6666666666666666,
              "#ed7953"
             ],
             [
              0.7777777777777778,
              "#fb9f3a"
             ],
             [
              0.8888888888888888,
              "#fdca26"
             ],
             [
              1,
              "#f0f921"
             ]
            ],
            "type": "contour"
           }
          ],
          "contourcarpet": [
           {
            "colorbar": {
             "outlinewidth": 0,
             "ticks": ""
            },
            "type": "contourcarpet"
           }
          ],
          "heatmap": [
           {
            "colorbar": {
             "outlinewidth": 0,
             "ticks": ""
            },
            "colorscale": [
             [
              0,
              "#0d0887"
             ],
             [
              0.1111111111111111,
              "#46039f"
             ],
             [
              0.2222222222222222,
              "#7201a8"
             ],
             [
              0.3333333333333333,
              "#9c179e"
             ],
             [
              0.4444444444444444,
              "#bd3786"
             ],
             [
              0.5555555555555556,
              "#d8576b"
             ],
             [
              0.6666666666666666,
              "#ed7953"
             ],
             [
              0.7777777777777778,
              "#fb9f3a"
             ],
             [
              0.8888888888888888,
              "#fdca26"
             ],
             [
              1,
              "#f0f921"
             ]
            ],
            "type": "heatmap"
           }
          ],
          "heatmapgl": [
           {
            "colorbar": {
             "outlinewidth": 0,
             "ticks": ""
            },
            "colorscale": [
             [
              0,
              "#0d0887"
             ],
             [
              0.1111111111111111,
              "#46039f"
             ],
             [
              0.2222222222222222,
              "#7201a8"
             ],
             [
              0.3333333333333333,
              "#9c179e"
             ],
             [
              0.4444444444444444,
              "#bd3786"
             ],
             [
              0.5555555555555556,
              "#d8576b"
             ],
             [
              0.6666666666666666,
              "#ed7953"
             ],
             [
              0.7777777777777778,
              "#fb9f3a"
             ],
             [
              0.8888888888888888,
              "#fdca26"
             ],
             [
              1,
              "#f0f921"
             ]
            ],
            "type": "heatmapgl"
           }
          ],
          "histogram": [
           {
            "marker": {
             "pattern": {
              "fillmode": "overlay",
              "size": 10,
              "solidity": 0.2
             }
            },
            "type": "histogram"
           }
          ],
          "histogram2d": [
           {
            "colorbar": {
             "outlinewidth": 0,
             "ticks": ""
            },
            "colorscale": [
             [
              0,
              "#0d0887"
             ],
             [
              0.1111111111111111,
              "#46039f"
             ],
             [
              0.2222222222222222,
              "#7201a8"
             ],
             [
              0.3333333333333333,
              "#9c179e"
             ],
             [
              0.4444444444444444,
              "#bd3786"
             ],
             [
              0.5555555555555556,
              "#d8576b"
             ],
             [
              0.6666666666666666,
              "#ed7953"
             ],
             [
              0.7777777777777778,
              "#fb9f3a"
             ],
             [
              0.8888888888888888,
              "#fdca26"
             ],
             [
              1,
              "#f0f921"
             ]
            ],
            "type": "histogram2d"
           }
          ],
          "histogram2dcontour": [
           {
            "colorbar": {
             "outlinewidth": 0,
             "ticks": ""
            },
            "colorscale": [
             [
              0,
              "#0d0887"
             ],
             [
              0.1111111111111111,
              "#46039f"
             ],
             [
              0.2222222222222222,
              "#7201a8"
             ],
             [
              0.3333333333333333,
              "#9c179e"
             ],
             [
              0.4444444444444444,
              "#bd3786"
             ],
             [
              0.5555555555555556,
              "#d8576b"
             ],
             [
              0.6666666666666666,
              "#ed7953"
             ],
             [
              0.7777777777777778,
              "#fb9f3a"
             ],
             [
              0.8888888888888888,
              "#fdca26"
             ],
             [
              1,
              "#f0f921"
             ]
            ],
            "type": "histogram2dcontour"
           }
          ],
          "mesh3d": [
           {
            "colorbar": {
             "outlinewidth": 0,
             "ticks": ""
            },
            "type": "mesh3d"
           }
          ],
          "parcoords": [
           {
            "line": {
             "colorbar": {
              "outlinewidth": 0,
              "ticks": ""
             }
            },
            "type": "parcoords"
           }
          ],
          "pie": [
           {
            "automargin": true,
            "type": "pie"
           }
          ],
          "scatter": [
           {
            "fillpattern": {
             "fillmode": "overlay",
             "size": 10,
             "solidity": 0.2
            },
            "type": "scatter"
           }
          ],
          "scatter3d": [
           {
            "line": {
             "colorbar": {
              "outlinewidth": 0,
              "ticks": ""
             }
            },
            "marker": {
             "colorbar": {
              "outlinewidth": 0,
              "ticks": ""
             }
            },
            "type": "scatter3d"
           }
          ],
          "scattercarpet": [
           {
            "marker": {
             "colorbar": {
              "outlinewidth": 0,
              "ticks": ""
             }
            },
            "type": "scattercarpet"
           }
          ],
          "scattergeo": [
           {
            "marker": {
             "colorbar": {
              "outlinewidth": 0,
              "ticks": ""
             }
            },
            "type": "scattergeo"
           }
          ],
          "scattergl": [
           {
            "marker": {
             "colorbar": {
              "outlinewidth": 0,
              "ticks": ""
             }
            },
            "type": "scattergl"
           }
          ],
          "scattermapbox": [
           {
            "marker": {
             "colorbar": {
              "outlinewidth": 0,
              "ticks": ""
             }
            },
            "type": "scattermapbox"
           }
          ],
          "scatterpolar": [
           {
            "marker": {
             "colorbar": {
              "outlinewidth": 0,
              "ticks": ""
             }
            },
            "type": "scatterpolar"
           }
          ],
          "scatterpolargl": [
           {
            "marker": {
             "colorbar": {
              "outlinewidth": 0,
              "ticks": ""
             }
            },
            "type": "scatterpolargl"
           }
          ],
          "scatterternary": [
           {
            "marker": {
             "colorbar": {
              "outlinewidth": 0,
              "ticks": ""
             }
            },
            "type": "scatterternary"
           }
          ],
          "surface": [
           {
            "colorbar": {
             "outlinewidth": 0,
             "ticks": ""
            },
            "colorscale": [
             [
              0,
              "#0d0887"
             ],
             [
              0.1111111111111111,
              "#46039f"
             ],
             [
              0.2222222222222222,
              "#7201a8"
             ],
             [
              0.3333333333333333,
              "#9c179e"
             ],
             [
              0.4444444444444444,
              "#bd3786"
             ],
             [
              0.5555555555555556,
              "#d8576b"
             ],
             [
              0.6666666666666666,
              "#ed7953"
             ],
             [
              0.7777777777777778,
              "#fb9f3a"
             ],
             [
              0.8888888888888888,
              "#fdca26"
             ],
             [
              1,
              "#f0f921"
             ]
            ],
            "type": "surface"
           }
          ],
          "table": [
           {
            "cells": {
             "fill": {
              "color": "#EBF0F8"
             },
             "line": {
              "color": "white"
             }
            },
            "header": {
             "fill": {
              "color": "#C8D4E3"
             },
             "line": {
              "color": "white"
             }
            },
            "type": "table"
           }
          ]
         },
         "layout": {
          "annotationdefaults": {
           "arrowcolor": "#2a3f5f",
           "arrowhead": 0,
           "arrowwidth": 1
          },
          "autotypenumbers": "strict",
          "coloraxis": {
           "colorbar": {
            "outlinewidth": 0,
            "ticks": ""
           }
          },
          "colorscale": {
           "diverging": [
            [
             0,
             "#8e0152"
            ],
            [
             0.1,
             "#c51b7d"
            ],
            [
             0.2,
             "#de77ae"
            ],
            [
             0.3,
             "#f1b6da"
            ],
            [
             0.4,
             "#fde0ef"
            ],
            [
             0.5,
             "#f7f7f7"
            ],
            [
             0.6,
             "#e6f5d0"
            ],
            [
             0.7,
             "#b8e186"
            ],
            [
             0.8,
             "#7fbc41"
            ],
            [
             0.9,
             "#4d9221"
            ],
            [
             1,
             "#276419"
            ]
           ],
           "sequential": [
            [
             0,
             "#0d0887"
            ],
            [
             0.1111111111111111,
             "#46039f"
            ],
            [
             0.2222222222222222,
             "#7201a8"
            ],
            [
             0.3333333333333333,
             "#9c179e"
            ],
            [
             0.4444444444444444,
             "#bd3786"
            ],
            [
             0.5555555555555556,
             "#d8576b"
            ],
            [
             0.6666666666666666,
             "#ed7953"
            ],
            [
             0.7777777777777778,
             "#fb9f3a"
            ],
            [
             0.8888888888888888,
             "#fdca26"
            ],
            [
             1,
             "#f0f921"
            ]
           ],
           "sequentialminus": [
            [
             0,
             "#0d0887"
            ],
            [
             0.1111111111111111,
             "#46039f"
            ],
            [
             0.2222222222222222,
             "#7201a8"
            ],
            [
             0.3333333333333333,
             "#9c179e"
            ],
            [
             0.4444444444444444,
             "#bd3786"
            ],
            [
             0.5555555555555556,
             "#d8576b"
            ],
            [
             0.6666666666666666,
             "#ed7953"
            ],
            [
             0.7777777777777778,
             "#fb9f3a"
            ],
            [
             0.8888888888888888,
             "#fdca26"
            ],
            [
             1,
             "#f0f921"
            ]
           ]
          },
          "colorway": [
           "#636efa",
           "#EF553B",
           "#00cc96",
           "#ab63fa",
           "#FFA15A",
           "#19d3f3",
           "#FF6692",
           "#B6E880",
           "#FF97FF",
           "#FECB52"
          ],
          "font": {
           "color": "#2a3f5f"
          },
          "geo": {
           "bgcolor": "white",
           "lakecolor": "white",
           "landcolor": "#E5ECF6",
           "showlakes": true,
           "showland": true,
           "subunitcolor": "white"
          },
          "hoverlabel": {
           "align": "left"
          },
          "hovermode": "closest",
          "mapbox": {
           "style": "light"
          },
          "paper_bgcolor": "white",
          "plot_bgcolor": "#E5ECF6",
          "polar": {
           "angularaxis": {
            "gridcolor": "white",
            "linecolor": "white",
            "ticks": ""
           },
           "bgcolor": "#E5ECF6",
           "radialaxis": {
            "gridcolor": "white",
            "linecolor": "white",
            "ticks": ""
           }
          },
          "scene": {
           "xaxis": {
            "backgroundcolor": "#E5ECF6",
            "gridcolor": "white",
            "gridwidth": 2,
            "linecolor": "white",
            "showbackground": true,
            "ticks": "",
            "zerolinecolor": "white"
           },
           "yaxis": {
            "backgroundcolor": "#E5ECF6",
            "gridcolor": "white",
            "gridwidth": 2,
            "linecolor": "white",
            "showbackground": true,
            "ticks": "",
            "zerolinecolor": "white"
           },
           "zaxis": {
            "backgroundcolor": "#E5ECF6",
            "gridcolor": "white",
            "gridwidth": 2,
            "linecolor": "white",
            "showbackground": true,
            "ticks": "",
            "zerolinecolor": "white"
           }
          },
          "shapedefaults": {
           "line": {
            "color": "#2a3f5f"
           }
          },
          "ternary": {
           "aaxis": {
            "gridcolor": "white",
            "linecolor": "white",
            "ticks": ""
           },
           "baxis": {
            "gridcolor": "white",
            "linecolor": "white",
            "ticks": ""
           },
           "bgcolor": "#E5ECF6",
           "caxis": {
            "gridcolor": "white",
            "linecolor": "white",
            "ticks": ""
           }
          },
          "title": {
           "x": 0.05
          },
          "xaxis": {
           "automargin": true,
           "gridcolor": "white",
           "linecolor": "white",
           "ticks": "",
           "title": {
            "standoff": 15
           },
           "zerolinecolor": "white",
           "zerolinewidth": 2
          },
          "yaxis": {
           "automargin": true,
           "gridcolor": "white",
           "linecolor": "white",
           "ticks": "",
           "title": {
            "standoff": 15
           },
           "zerolinecolor": "white",
           "zerolinewidth": 2
          }
         }
        },
        "title": {
         "text": "Age Distribution"
        },
        "xaxis": {
         "anchor": "y",
         "domain": [
          0,
          1
         ],
         "title": {
          "text": "Age"
         }
        },
        "yaxis": {
         "anchor": "x",
         "domain": [
          0,
          1
         ],
         "title": {
          "text": "Number of People"
         }
        }
       }
      }
     },
     "metadata": {},
     "output_type": "display_data"
    }
   ],
   "source": [
    "# Extract the values from the 'Age' column and count occurrences\n",
    "age_counts = online_food['Age'].value_counts().reset_index()\n",
    "age_counts.columns = ['Age', 'Count']\n",
    "\n",
    "# Create the bar chart with color grading\n",
    "fig = px.bar(age_counts, x='Age', y='Count', title='Age Distribution',\n",
    "             labels={'Age': 'Age', 'Count': 'Number of People'},\n",
    "             color='Age', color_continuous_scale='Viridis')\n",
    "\n",
    "# Show the plot\n",
    "fig.show()"
   ]
  },
  {
   "cell_type": "markdown",
   "metadata": {},
   "source": [
    "MEAN VALUE OF AGE"
   ]
  },
  {
   "cell_type": "code",
   "execution_count": null,
   "metadata": {},
   "outputs": [],
   "source": [
    "mean_value = online_food['Age'].mean()\n",
    "print('The mean value for age is',mean_value)"
   ]
  },
  {
   "cell_type": "markdown",
   "metadata": {},
   "source": [
    "MEDIAN VALUE OF AGE"
   ]
  },
  {
   "cell_type": "code",
   "execution_count": null,
   "metadata": {},
   "outputs": [],
   "source": [
    "median_value = online_food['Age'].median()\n",
    "print('The median value for age is',median_value)"
   ]
  },
  {
   "cell_type": "markdown",
   "metadata": {},
   "source": [
    "MODE VALUE OF AGE"
   ]
  },
  {
   "cell_type": "code",
   "execution_count": null,
   "metadata": {},
   "outputs": [],
   "source": [
    "mode_value = online_food['Age'].mode().values[0]\n",
    "print('The median value for age is',mode_value)"
   ]
  },
  {
   "cell_type": "markdown",
   "metadata": {},
   "source": [
    "VISUALIZATION FOR NUMERICAL VARIABLE"
   ]
  },
  {
   "cell_type": "code",
   "execution_count": null,
   "metadata": {},
   "outputs": [],
   "source": [
    "# Visualization (box plot for numerical variable)\n",
    "plt.figure(figsize=(8,8))\n",
    "sns.boxplot(online_food['Age'])\n",
    "plt.title('Box Plot')\n",
    "plt.xlabel('Age')\n",
    "plt.show()"
   ]
  },
  {
   "cell_type": "code",
   "execution_count": null,
   "metadata": {},
   "outputs": [],
   "source": [
    "# Create the histogram chart\n",
    "fig = px.histogram(online_food, x='Gender', title='Gender Distribution', color='Gender',\n",
    "                   color_discrete_sequence=['#636EFA', '#EF553B'])\n",
    "\n",
    "# Add data labels\n",
    "fig.update_traces(texttemplate='%{value}', textposition='outside')\n",
    "\n",
    "# Show the plot\n",
    "fig.show()"
   ]
  },
  {
   "cell_type": "code",
   "execution_count": null,
   "metadata": {},
   "outputs": [],
   "source": [
    "# Extract the values from the 'Gender' column and count occurrences\n",
    "marital_status_counts = online_food['Marital Status'].value_counts().reset_index()\n",
    "marital_status_counts.columns = ['Marital Status', 'Count']\n",
    "\n",
    "colors = ['#636EFA', '#EF553B', '#00CC96', '#AB63FA']\n",
    "\n",
    "# Create the pie chart\n",
    "fig = px.pie(marital_status_counts, names='Marital Status', values='Count', title='Marital Status Distribution')\n",
    "\n",
    "# Update the chart to add data labels\n",
    "fig.update_traces(textinfo='percent+label')\n",
    "\n",
    "# Show the plot\n",
    "fig.show()"
   ]
  },
  {
   "cell_type": "code",
   "execution_count": null,
   "metadata": {},
   "outputs": [],
   "source": [
    "# Calculate the counts and percentages\n",
    "occupation_income_counts = online_food['Occupation'].value_counts(normalize=True).reset_index()\n",
    "occupation_income_counts.columns = ['Occupation', 'Percentage']\n",
    "occupation_income_counts['Percentage'] *= 100\n",
    "\n",
    "# Create the bar chart with color grading\n",
    "fig = px.bar(occupation_income_counts, x='Occupation', y='Percentage', title='Occupation Distribution',\n",
    "             labels={'Occupation': 'Occupation', 'Percentage': 'Percentage (%)'},\n",
    "             color='Occupation', color_continuous_scale='Viridis')\n",
    "\n",
    "# Add data labels\n",
    "fig.update_traces(texttemplate='%{y:.1f}%', textposition='inside')\n",
    "\n",
    "# Show the plot\n",
    "fig.show()"
   ]
  },
  {
   "cell_type": "code",
   "execution_count": null,
   "metadata": {},
   "outputs": [],
   "source": [
    "# Calculate the counts and percentages\n",
    "monthly_income_counts = online_food['Monthly Income'].value_counts(normalize=True).reset_index()\n",
    "monthly_income_counts.columns = ['Monthly Income', 'Percentage']\n",
    "monthly_income_counts['Percentage'] *= 100\n",
    "\n",
    "# Create the bar chart with color grading\n",
    "fig = px.bar(monthly_income_counts, x='Monthly Income', y='Percentage', title='Monthly Income Distribution',\n",
    "             labels={'Monthly Income': 'Monthly Income', 'Percentage': 'Percentage (%)'},\n",
    "             color='Monthly Income', color_continuous_scale='Viridis')\n",
    "\n",
    "# Add data labels\n",
    "fig.update_traces(texttemplate='%{y:.1f}%', textposition='inside')\n",
    "\n",
    "# Show the plot\n",
    "fig.show()"
   ]
  },
  {
   "cell_type": "code",
   "execution_count": null,
   "metadata": {},
   "outputs": [],
   "source": [
    "# Calculate the counts and percentages\n",
    "edu_qual_counts = online_food['Educational Qualifications'].value_counts(normalize=True).reset_index()\n",
    "edu_qual_counts.columns = ['Educational Qualifications', 'Percentage']\n",
    "edu_qual_counts['Percentage'] *= 100\n",
    "\n",
    "# Create the bar chart with color grading\n",
    "fig = px.bar(edu_qual_counts, x='Educational Qualifications', y='Percentage', title='Educational Qualifications Distribution',\n",
    "             labels={'Educational Qualifications': 'Educational Qualifications', 'Percentage': 'Percentage (%)'},\n",
    "             color='Educational Qualifications', color_continuous_scale='Viridis')\n",
    "\n",
    "# Add data labels\n",
    "fig.update_traces(texttemplate='%{y:.1f}%', textposition='inside')\n",
    "\n",
    "# Show the plot\n",
    "fig.show()"
   ]
  },
  {
   "cell_type": "code",
   "execution_count": null,
   "metadata": {},
   "outputs": [],
   "source": [
    "# Calculate the counts and percentages\n",
    "family_size_counts = online_food['Family size'].value_counts(normalize=True).reset_index()\n",
    "family_size_counts.columns = ['Family size', 'Percentage']\n",
    "family_size_counts['Percentage'] *= 100\n",
    "\n",
    "# Create the bar chart with color grading\n",
    "fig = px.bar(family_size_counts, x='Family size', y='Percentage', title='Family size Distribution',\n",
    "             labels={'Family size': 'Family size', 'Percentage': 'Percentage (%)'},\n",
    "             color='Family size', color_continuous_scale='Viridis')\n",
    "\n",
    "# Add data labels\n",
    "fig.update_traces(texttemplate='%{y:.1f}%', textposition='inside')\n",
    "\n",
    "# Show the plot\n",
    "fig.show()"
   ]
  },
  {
   "cell_type": "code",
   "execution_count": null,
   "metadata": {},
   "outputs": [],
   "source": [
    "# Extract the values from the 'Age' column and count occurrences\n",
    "pin_code_counts = online_food['Pin code'].value_counts().reset_index()\n",
    "pin_code_counts.columns = ['Pin Code', 'Count']\n",
    "\n",
    "# Create the bar chart with color grading\n",
    "fig = px.bar(pin_code_counts, x='Pin Code', y='Count', title='Pin Code Distribution',\n",
    "             labels={'Pin Code': 'Pin Code', 'Count': 'Pin Code'},\n",
    "             color='Pin Code', color_continuous_scale='Viridis')\n",
    "\n",
    "# Show the plot\n",
    "fig.show()"
   ]
  },
  {
   "cell_type": "code",
   "execution_count": null,
   "metadata": {},
   "outputs": [],
   "source": [
    "# Calculate the counts and percentages\n",
    "output_counts = online_food['Output'].value_counts(normalize=True).reset_index()\n",
    "output_counts.columns = ['Output', 'Percentage']\n",
    "output_counts['Percentage'] *= 100\n",
    "\n",
    "# Create the bar chart with color grading\n",
    "fig = px.bar(output_counts, x='Output', y='Percentage', title='Output Distribution',\n",
    "             labels={'Output': 'Output', 'Percentage': 'Percentage (%)'},\n",
    "             color='Output', color_continuous_scale='Viridis')\n",
    "\n",
    "# Add data labels\n",
    "fig.update_traces(texttemplate='%{y:.1f}%', textposition='inside')\n",
    "\n",
    "# Show the plot\n",
    "fig.show()"
   ]
  },
  {
   "cell_type": "code",
   "execution_count": null,
   "metadata": {},
   "outputs": [],
   "source": [
    "# Calculate the counts and percentages\n",
    "feedback_counts = online_food['Feedback'].value_counts(normalize=True).reset_index()\n",
    "feedback_counts.columns = ['Feedback', 'Percentage']\n",
    "feedback_counts['Percentage'] *= 100\n",
    "\n",
    "# Create the bar chart with color grading\n",
    "fig = px.bar(feedback_counts, x='Feedback', y='Percentage', title='Feedback Distribution',\n",
    "             labels={'Feedback': 'Feedback', 'Percentage': 'Percentage (%)'},\n",
    "             color='Feedback', color_continuous_scale='Viridis')\n",
    "\n",
    "# Add data labels\n",
    "fig.update_traces(texttemplate='%{y:.1f}%', textposition='inside')\n",
    "\n",
    "# Show the plot\n",
    "fig.show()"
   ]
  },
  {
   "cell_type": "markdown",
   "metadata": {},
   "source": [
    "#### <b>BUSINESS ANALYSIS QUESTIONS</b>\n",
    "- What is the average monthly income across different occupations?\n",
    "\n",
    "- How does marital status affect monthly income?\n",
    "\n",
    "- Is there a correlation between age and monthly income?\n",
    "\n",
    "- How does family size influence monthly income?\n",
    "\n",
    "- What is the distribution of educational qualifications in the dataset?\n",
    "\n",
    "- How does occupation vary with educational qualifications?\n",
    "\n",
    "- What are the average feedback scores for different occupations?\n",
    "\n",
    "- Is there any geographic trend in monthly income based on latitude and longitude?\n",
    "\n",
    "- How does gender affect monthly income?\n",
    "\n",
    "- What is the distribution of the output variable?"
   ]
  },
  {
   "cell_type": "markdown",
   "metadata": {},
   "source": [
    "- Question 1 - What is the average monthly income across different occupations?"
   ]
  },
  {
   "cell_type": "code",
   "execution_count": null,
   "metadata": {},
   "outputs": [],
   "source": [
    "avg_income_by_occupation = customer_transactions.groupby('Occupation')['Monthly Income'].mean().reset_index()\n",
    "print(avg_income_by_occupation)\n"
   ]
  },
  {
   "cell_type": "code",
   "execution_count": null,
   "metadata": {},
   "outputs": [],
   "source": []
  },
  {
   "cell_type": "code",
   "execution_count": null,
   "metadata": {},
   "outputs": [],
   "source": []
  },
  {
   "cell_type": "code",
   "execution_count": null,
   "metadata": {},
   "outputs": [],
   "source": []
  },
  {
   "cell_type": "code",
   "execution_count": null,
   "metadata": {},
   "outputs": [],
   "source": []
  },
  {
   "cell_type": "code",
   "execution_count": null,
   "metadata": {},
   "outputs": [],
   "source": []
  },
  {
   "cell_type": "code",
   "execution_count": null,
   "metadata": {},
   "outputs": [],
   "source": []
  },
  {
   "cell_type": "code",
   "execution_count": null,
   "metadata": {},
   "outputs": [],
   "source": []
  },
  {
   "cell_type": "code",
   "execution_count": null,
   "metadata": {},
   "outputs": [],
   "source": []
  },
  {
   "cell_type": "code",
   "execution_count": null,
   "metadata": {},
   "outputs": [],
   "source": []
  },
  {
   "cell_type": "code",
   "execution_count": null,
   "metadata": {},
   "outputs": [],
   "source": []
  },
  {
   "cell_type": "code",
   "execution_count": null,
   "metadata": {},
   "outputs": [],
   "source": []
  },
  {
   "cell_type": "code",
   "execution_count": null,
   "metadata": {},
   "outputs": [],
   "source": []
  },
  {
   "cell_type": "code",
   "execution_count": null,
   "metadata": {},
   "outputs": [],
   "source": []
  },
  {
   "cell_type": "code",
   "execution_count": null,
   "metadata": {},
   "outputs": [],
   "source": []
  },
  {
   "cell_type": "code",
   "execution_count": null,
   "metadata": {},
   "outputs": [],
   "source": []
  },
  {
   "cell_type": "markdown",
   "metadata": {},
   "source": [
    "BIVARIATE ANALYSIS"
   ]
  },
  {
   "cell_type": "code",
   "execution_count": null,
   "metadata": {},
   "outputs": [],
   "source": [
    "#Bivariate analysis for 'Age' vs 'Output'\n",
    "fig = px.box(online_food, x='Age', y='Output', title='Age vs Output')\n",
    "fig.update_xaxes(title='Age')\n",
    "fig.update_yaxes(title='Output')\n",
    "fig.show()\n",
    "\n",
    "\n",
    "# Bivariate analysis for 'Age' vs 'Marital Status'\n",
    "fig = px.histogram(online_food, x='Age', color='Marital Status', \n",
    "                   title='Age vs Marital Status',\n",
    "                   labels={'Age': 'Age', 'Marital Status': 'Marital Status', 'count': 'Count'},\n",
    "                   barmode='group')\n",
    "\n",
    "fig.update_layout(xaxis_title='Age', yaxis_title='Count')\n",
    "fig.show()\n",
    "\n",
    "\n",
    "# Bivariate analysis for 'Age' vs 'Monthly Income'\n",
    "fig = px.histogram(online_food, x='Age', color='Monthly Income', \n",
    "             title='Age vs Monthly Income', \n",
    "             labels={'Age': 'Age', 'Monthly Income': 'Monthly Income', 'count': 'Count'})\n",
    "\n",
    "fig.update_layout(xaxis_title='Age', yaxis_title='Count')\n",
    "fig.show()\n",
    "\n",
    "\n",
    "# Bivariate analysis for 'Age' vs 'Occupation'\n",
    "fig = px.histogram(online_food, x='Age', color='Occupation', \n",
    "             title='Age vs Occupation', \n",
    "             labels={'Age': 'Age', 'Occupation': 'Occupation', 'count': 'Count'})\n",
    "\n",
    "fig.update_layout(xaxis_title='Age', yaxis_title='Count')\n",
    "fig.show()\n",
    "\n",
    "\n",
    "# Bivariate analysis for 'Gender' vs 'Output'\n",
    "fig = px.histogram(online_food, x='Gender', color='Educational Qualifications', \n",
    "             title='Gender vs Educational Qualifications', \n",
    "             labels={'Gender': 'Gender', 'Educational Qualifications': 'Educational Qualifications', 'count': 'Count'})\n",
    "\n",
    "fig.update_layout(xaxis_title='Gender', yaxis_title='Count')\n",
    "fig.show()\n",
    "\n",
    "\n",
    "#Bivariate analysis for 'Marital Status' vs 'Gender'\n",
    "# Create a cross-tabulation\n",
    "cross_tab = pd.crosstab(online_food['Gender'], online_food['Marital Status'])\n",
    "\n",
    "# Plot the heatmap\n",
    "fig = px.imshow(cross_tab,\n",
    "                labels=dict(x=\"Marital Status\", y=\"Gender\", color=\"Count\"),\n",
    "                x=cross_tab.columns,\n",
    "                y=cross_tab.index,\n",
    "                color_continuous_scale='viridis')\n",
    "\n",
    "fig.update_layout(title='Gender vs. Marital Status',\n",
    "                  xaxis_title='Marital Status',\n",
    "                  yaxis_title='Gender')\n",
    "\n",
    "fig.show()\n",
    "\n",
    "\n",
    "# Bivariate analysis for 'Gender' vs 'Output'\n",
    "fig = px.histogram(online_food, x='Gender', color='Output', \n",
    "                   title='Gender vs Output',\n",
    "                   labels={'Gender': 'Gender', 'Output': 'Output', 'count': 'Count'},\n",
    "                   barmode='group')\n",
    "\n",
    "fig.update_layout(xaxis_title='Gender', yaxis_title='Count')\n",
    "fig.show()\n",
    "\n",
    "\n",
    "# Bivariate analysis for 'Marital Status' vs 'Output'\n",
    "fig = px.histogram(online_food, x='Marital Status', color='Output', \n",
    "                   title='Marital Status vs Output',\n",
    "                   labels={'Marital Status': 'Marital Status', 'Output': 'Output', 'count': 'Count'},\n",
    "                   barmode='group')\n",
    "\n",
    "fig.update_layout(xaxis_title='Marital Status', yaxis_title='Count')\n",
    "fig.show()\n",
    "\n",
    "# Bivariate analysis for 'Marital Status' vs 'Monthly Income'\n",
    "fig = px.histogram(online_food, x='Marital Status', color='Monthly Income', \n",
    "                   title='Marital Status vs Monthly Income',\n",
    "                   labels={'Marital Status': 'Marital Status', 'Monthly Income': 'Monthly Income', 'count': 'Count'},\n",
    "                   barmode='group')\n",
    "\n",
    "fig.update_layout(xaxis_title='Marital Status', yaxis_title='Monthly Income')\n",
    "fig.show()\n",
    "\n",
    "\n",
    "# Bivariate analysis for 'Occupation' vs 'Output'\n",
    "fig = px.histogram(online_food, x='Occupation', color='Output', \n",
    "                   title='Occupation vs Output',\n",
    "                   labels={'Occupation': 'Occupation', 'Output': 'Output', 'count': 'Count'},\n",
    "                   barmode='group')\n",
    "\n",
    "fig.update_layout(xaxis_title='Occupation', yaxis_title='Count')\n",
    "fig.show()\n",
    "\n",
    "\n",
    "# Bivariate analysis for 'Educational Qualifications' vs 'Output'\n",
    "fig = px.histogram(online_food, x='Educational Qualifications', color='Output', \n",
    "                   title='Educational Qualifications vs Output',\n",
    "                   labels={'Educational Qualifications': 'Educational Qualifications', 'Output': 'Output', 'count': 'Count'},\n",
    "                   barmode='group')\n",
    "\n",
    "fig.update_layout(xaxis_title='Educational Qualifications', yaxis_title='Count')\n",
    "fig.show()\n",
    "\n",
    "\n",
    "# Bivariate analysis for 'Family size' vs 'Output'\n",
    "fig = px.box(online_food, x='Output', y='Family size', \n",
    "             title='Family size vs Output', \n",
    "             labels={'Output': 'Output', 'Family size': 'Family size'})\n",
    "\n",
    "fig.update_xaxes(title='Output')\n",
    "fig.update_yaxes(title='Family size')\n",
    "fig.show()\n",
    "\n",
    "\n",
    "# Bivariate analysis for 'Feedback' vs 'Output'\n",
    "fig = px.histogram(online_food, x='Feedback', color='Output', \n",
    "                   title='Feedback vs Output',\n",
    "                   labels={'Feedback': 'Feedback', 'Output': 'Output', 'count': 'Count'},\n",
    "                   barmode='group')\n",
    "\n",
    "fig.update_layout(xaxis_title='Feedback', yaxis_title='Count')\n",
    "fig.show()\n",
    "\n",
    "\n",
    "# Bivariate analysis for 'Monthly Income' vs 'Gender'\n",
    "fig = px.histogram(online_food, x='Monthly Income', color='Gender', \n",
    "                   title='Monthly Income vs Gender',\n",
    "                   labels={'Monthly Income': 'Monthly Income', 'Gender': 'Gender', 'count': 'Count'},\n",
    "                   barmode='group')\n",
    "\n",
    "fig.update_layout(xaxis_title='Educational Qualifications', yaxis_title='Count')\n",
    "fig.show()"
   ]
  },
  {
   "cell_type": "markdown",
   "metadata": {},
   "source": [
    "MULTIVARIATE ANALYSIS"
   ]
  },
  {
   "cell_type": "code",
   "execution_count": null,
   "metadata": {},
   "outputs": [],
   "source": [
    "# Pairplot for numerical variables\n",
    "# Create the pairplot\n",
    "g = sns.pairplot(online_food, diag_kind='kde', height=3, aspect=1.5)\n",
    "g.fig.suptitle('Pairplot of Numerical Variables', y=1.02)\n",
    "\n",
    "# Adjust plot aesthetics\n",
    "plt.tight_layout(rect=[0, 0, 1, 0.96])\n",
    "\n",
    "# Show the plot\n",
    "plt.show()\n",
    "\n",
    "\n",
    "# Boxplot of 'Rating' by 'Gender' and 'Marital Status'\n",
    "plt.figure(figsize=(12, 6))\n",
    "sns.boxplot(x='Age', y='Marital Status', hue='Family size', data=online_food)\n",
    "plt.title('Age by Marital Status and Family size')\n",
    "plt.xlabel('Age')\n",
    "plt.ylabel('Marital Status')\n",
    "plt.show()\n",
    "\n",
    "\n",
    "# Barplot of 'Feedback' by 'Occupation' and 'Educational Qualifications'\n",
    "plt.figure(figsize=(10, 6))\n",
    "sns.histplot(x='Occupation', y='Feedback', hue='Educational Qualifications', data=online_food)\n",
    "plt.title('Feedback by Occupation and Educational Qualifications')\n",
    "plt.xlabel('Occupation')\n",
    "plt.ylabel('Feedback')\n",
    "plt.xticks(rotation=45)\n",
    "plt.show()\n",
    "\n",
    "\n",
    "# Barplot of Feedback by Occupation and Educational Qualifications\n",
    "fig = px.bar(online_food, x='Occupation', y='Feedback', color='Educational Qualifications',\n",
    "             title='Feedback by Occupation and Educational Qualifications')\n",
    "\n",
    "fig.update_layout(xaxis_title='Occupation', yaxis_title='Feedback')\n",
    "fig.update_xaxes(tickangle=45)\n",
    "fig.show()"
   ]
  },
  {
   "cell_type": "markdown",
   "metadata": {},
   "source": [
    "LABEL ENCODING"
   ]
  },
  {
   "cell_type": "code",
   "execution_count": null,
   "metadata": {},
   "outputs": [],
   "source": [
    "# Initialize LabelEncoder\n",
    "label_encoder = LabelEncoder()\n",
    "\n",
    "# Iterate over categorical columns and apply label encoding\n",
    "for column in ['Gender', 'Marital Status', 'Occupation', 'Monthly Income','Educational Qualifications','Output','Feedback']:\n",
    "    online_food[column] = label_encoder.fit_transform(online_food[column].values)\n",
    "\n",
    "# Display the encoded dataset\n",
    "online_food"
   ]
  },
  {
   "cell_type": "markdown",
   "metadata": {},
   "source": [
    "CORRELATION HEATMAP"
   ]
  },
  {
   "cell_type": "code",
   "execution_count": null,
   "metadata": {},
   "outputs": [],
   "source": [
    "# Heatmap for correlation\n",
    "plt.figure(figsize=(10, 10))\n",
    "correlation_matrix = online_food.corr()\n",
    "sns.heatmap(correlation_matrix, annot=True, cmap='coolwarm', fmt=\".2f\")\n",
    "plt.title('Correlation Heatmap')\n",
    "plt.show()"
   ]
  },
  {
   "cell_type": "markdown",
   "metadata": {},
   "source": [
    "<b> MODELLING </b>"
   ]
  },
  {
   "cell_type": "code",
   "execution_count": null,
   "metadata": {},
   "outputs": [],
   "source": [
    "# Load the dataset\n",
    "X = online_food[['Age', 'Monthly Income', 'Family size']]\n",
    "y = online_food['Output']\n",
    "\n",
    "# Split the dataset into train and test sets\n",
    "X_train, X_test, y_train, y_test = train_test_split(X, y, test_size=0.3, random_state=42)\n",
    "\n",
    "# Feature scaling\n",
    "scaler = StandardScaler()\n",
    "X_train = scaler.fit_transform(X_train)\n",
    "X_test = scaler.transform(X_test)\n",
    "\n",
    "# Define models\n",
    "models = {\n",
    "    \"Logistic Regression\": LogisticRegression(),\n",
    "    \"Random Forest\": RandomForestClassifier(),\n",
    "    \"Support Vector Machine\": SVC()\n",
    "}\n",
    "\n",
    "# Create a pipeline for each model\n",
    "pipelines = {}\n",
    "for name, model in models.items():\n",
    "    pipelines[name] = Pipeline([\n",
    "        (\"scaler\", scaler),\n",
    "        (\"model\", model)\n",
    "    ])\n",
    "\n",
    "# Train and evaluate models using pipelines\n",
    "for name, pipeline in pipelines.items():\n",
    "    pipeline.fit(X_train, y_train)\n",
    "    y_pred = pipeline.predict(X_test)\n",
    "    accuracy = accuracy_score(y_test, y_pred)\n",
    "    classification = classification_report(y_test, y_pred)\n",
    "    print(f\"{name} Metrics:\")\n",
    "    print(f\"Accuracy: {accuracy}\")\n",
    "    print(f\"Classification Report:\\n{classification}\\n\")"
   ]
  },
  {
   "cell_type": "markdown",
   "metadata": {},
   "source": [
    "CHECK FOR DATA IMBALANCE"
   ]
  },
  {
   "cell_type": "code",
   "execution_count": null,
   "metadata": {},
   "outputs": [],
   "source": [
    "# Assuming your data is in a DataFrame called 'df' with a target column 'target'\n",
    "target_counts = online_food['Output'].value_counts()\n",
    "sns.barplot(x=target_counts.index, y=target_counts.values)\n",
    "plt.title('Class Distribution')\n",
    "plt.show()"
   ]
  },
  {
   "cell_type": "code",
   "execution_count": null,
   "metadata": {},
   "outputs": [],
   "source": [
    "# Assuming your data is in X_train and y_train\n",
    "print('Original dataset shape %s' % Counter(y_train))\n",
    "\n",
    "ros = RandomOverSampler(random_state=42)\n",
    "X_resampled, y_resampled = ros.fit_resample(X_train, y_train)\n",
    "print('Resampled dataset shape %s' % Counter(y_resampled))"
   ]
  },
  {
   "cell_type": "code",
   "execution_count": null,
   "metadata": {},
   "outputs": [],
   "source": [
    "# Assuming your classifier is RandomForestClassifier\n",
    "classifier = RandomForestClassifier(class_weight='balanced')"
   ]
  },
  {
   "cell_type": "markdown",
   "metadata": {},
   "source": [
    "HYPERPARAMETER TUNING"
   ]
  },
  {
   "cell_type": "code",
   "execution_count": null,
   "metadata": {},
   "outputs": [],
   "source": [
    "# Define the model\n",
    "model = RandomForestClassifier()\n",
    "\n",
    "# Define the grid of hyperparameters\n",
    "param_grid = {\n",
    "    'n_estimators': [50, 100, 150],\n",
    "    'max_depth': [None, 5, 10],\n",
    "    'min_samples_split': [2, 5, 10]\n",
    "}\n",
    "\n",
    "# Initialize GridSearchCV\n",
    "grid_search = GridSearchCV(estimator=model, param_grid=param_grid, cv=5, scoring='accuracy')\n",
    "\n",
    "# Perform Grid Search\n",
    "grid_search.fit(X, y)\n",
    "\n",
    "# Print the best hyperparameters\n",
    "print(\"Best Hyperparameters:\", grid_search.best_params_)"
   ]
  },
  {
   "cell_type": "markdown",
   "metadata": {},
   "source": [
    "#### <b> ONLINE PREDICTION APP </b>"
   ]
  },
  {
   "cell_type": "code",
   "execution_count": null,
   "metadata": {},
   "outputs": [],
   "source": [
    "app = Flask(__app.py__)\n",
    "\n",
    "# Load the pre-trained model\n",
    "model = pickle.load(open('model.pkl','rb'))\n",
    "\n",
    "@app.route('/')\n",
    "def home():\n",
    "    return render_template('index.html')\n",
    "\n",
    "@app.route('/predict', methods=['POST'])\n",
    "def predict():\n",
    "    # Get user input from the form\n",
    "    age = int(request.form['age'])\n",
    "    monthly_income = int(request.form['monthly_income'])\n",
    "    family_size = int(request.form['family_size'])\n",
    "\n",
    "    # Make prediction using the model\n",
    "    prediction = model.predict([[age, monthly_income, family_size]])\n",
    "\n",
    "    # Map prediction to human-readable output\n",
    "    output = \"Satisfied\" if prediction[0] == 1 else \"Not Satisfied\"\n",
    "\n",
    "    return render_template('index.html', prediction_text='Customer is {}'.format(output))\n",
    "\n",
    "if __name__ == '__main__':\n",
    "    app.run(debug=True)"
   ]
  }
 ],
 "metadata": {
  "kernelspec": {
   "display_name": "Python 3",
   "language": "python",
   "name": "python3"
  },
  "language_info": {
   "codemirror_mode": {
    "name": "ipython",
    "version": 3
   },
   "file_extension": ".py",
   "mimetype": "text/x-python",
   "name": "python",
   "nbconvert_exporter": "python",
   "pygments_lexer": "ipython3",
   "version": "3.11.1"
  }
 },
 "nbformat": 4,
 "nbformat_minor": 2
}
