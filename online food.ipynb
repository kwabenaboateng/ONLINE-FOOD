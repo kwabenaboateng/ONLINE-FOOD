{
 "cells": [
  {
   "cell_type": "markdown",
   "metadata": {},
   "source": [
    "## <center><b>ONLINE FOOD DATASET.</b></center>"
   ]
  },
  {
   "cell_type": "markdown",
   "metadata": {},
   "source": [
    "<b>IMPORT LIBRARY PACKAGES</b>"
   ]
  },
  {
   "cell_type": "code",
   "execution_count": null,
   "metadata": {},
   "outputs": [],
   "source": [
    "import numpy as np\n",
    "import pandas as pd\n",
    "import seaborn as sns\n",
    "import plotly.express as px\n",
    "import matplotlib.pyplot as plt\n",
    "import warnings\n",
    "warnings.filterwarnings('always') \n",
    "import shap\n",
    "import pickle\n",
    "\n",
    "# Model Classifier\n",
    "from sklearn.svm import SVC\n",
    "from collections import Counter\n",
    "from xgboost import XGBClassifier\n",
    "from sklearn.utils import resample\n",
    "from sklearn.pipeline import Pipeline\n",
    "from sklearn.naive_bayes import MultinomialNB\n",
    "from sklearn.preprocessing import LabelEncoder\n",
    "from sklearn.preprocessing import StandardScaler\n",
    "from imblearn import under_sampling, over_sampling\n",
    "from sklearn.neighbors import KNeighborsClassifier\n",
    "from sklearn.ensemble import RandomForestClassifier\n",
    "from sklearn.linear_model import LogisticRegression\n",
    "from imblearn.over_sampling import RandomOverSampler\n",
    "from sklearn.model_selection import train_test_split, cross_val_score, GridSearchCV\n",
    "from sklearn.metrics import accuracy_score, classification_report, confusion_matrix, roc_auc_score\n",
    "\n",
    "from flask import Flask, render_template, request"
   ]
  },
  {
   "cell_type": "markdown",
   "metadata": {},
   "source": [
    "<b>LOAD & DISPLAY DATA</b>"
   ]
  },
  {
   "cell_type": "code",
   "execution_count": null,
   "metadata": {},
   "outputs": [],
   "source": [
    "online_food = pd.read_csv('onlinefoods.csv')\n",
    "online_food.head()"
   ]
  },
  {
   "cell_type": "markdown",
   "metadata": {},
   "source": [
    "#### <b> DATA EXPLORATION </b>"
   ]
  },
  {
   "cell_type": "markdown",
   "metadata": {},
   "source": [
    "CHECK FOR NUMBER OF ROWS AND COLUMNS IN THIS DATASET"
   ]
  },
  {
   "cell_type": "code",
   "execution_count": null,
   "metadata": {},
   "outputs": [],
   "source": [
    "print('The total number of rows and columns is',online_food.shape,'respectively.')"
   ]
  },
  {
   "cell_type": "markdown",
   "metadata": {},
   "source": [
    "DATASET SUMMARY\n",
    "\n",
    "This section provides general insight of this dataset."
   ]
  },
  {
   "cell_type": "code",
   "execution_count": null,
   "metadata": {},
   "outputs": [],
   "source": [
    "online_food.info()"
   ]
  },
  {
   "cell_type": "markdown",
   "metadata": {},
   "source": [
    "CHECK FOR ANY MISSING VALUES"
   ]
  },
  {
   "cell_type": "code",
   "execution_count": null,
   "metadata": {},
   "outputs": [],
   "source": [
    "online_food.isna()"
   ]
  },
  {
   "cell_type": "markdown",
   "metadata": {},
   "source": [
    "TOTAL SUM OF MISSING VALUES"
   ]
  },
  {
   "cell_type": "code",
   "execution_count": null,
   "metadata": {},
   "outputs": [],
   "source": [
    "online_food.isna().sum()"
   ]
  },
  {
   "cell_type": "markdown",
   "metadata": {},
   "source": [
    "CHECK FOR DUPLICATE ROWS"
   ]
  },
  {
   "cell_type": "code",
   "execution_count": null,
   "metadata": {},
   "outputs": [],
   "source": [
    "print (\"There are\",online_food.duplicated().sum(), \"duplicate values in this dataset.\")"
   ]
  },
  {
   "cell_type": "markdown",
   "metadata": {},
   "source": [
    "DISPLAY DUPLICATES ROWS"
   ]
  },
  {
   "cell_type": "code",
   "execution_count": null,
   "metadata": {},
   "outputs": [],
   "source": [
    "duplicates = online_food[online_food.duplicated(keep=False)]\n",
    "duplicates"
   ]
  },
  {
   "cell_type": "markdown",
   "metadata": {},
   "source": [
    "INSIGHTS\n",
    "\n",
    "In this dataset, there were no missing values but 103 entry duplicates were identified.\n",
    "\n",
    "The duplicates were identified in the following columns: \n",
    "- Age \n",
    "- Gender \n",
    "- Marital Status \n",
    "- Occupation \n",
    "- Monthly income \n",
    "- Educational Qualifications \n",
    "- Output and \n",
    "- Feedback."
   ]
  },
  {
   "cell_type": "markdown",
   "metadata": {},
   "source": [
    "SUMMARY STATISTICS"
   ]
  },
  {
   "cell_type": "code",
   "execution_count": null,
   "metadata": {},
   "outputs": [],
   "source": [
    "online_food.describe(include='all').T"
   ]
  },
  {
   "cell_type": "code",
   "execution_count": null,
   "metadata": {},
   "outputs": [],
   "source": [
    "online_food.boxplot()"
   ]
  },
  {
   "cell_type": "markdown",
   "metadata": {},
   "source": [
    "#### <b> DATA CLEANING </b>\n",
    "\n",
    "Under this section, I will be preparing the dataset for my analysis and ensure it meets up to the standard I want it to be.\n",
    "\n",
    "To get this done, I will do the following:\n",
    "- Drop unwanted columns\n",
    "- Rename some columns or entries"
   ]
  },
  {
   "cell_type": "markdown",
   "metadata": {},
   "source": [
    "DROP UNWANTED COLUMN"
   ]
  },
  {
   "cell_type": "code",
   "execution_count": null,
   "metadata": {},
   "outputs": [],
   "source": [
    "online_food.drop (columns=['Unnamed: 12'], inplace = True)\n",
    "online_food.head()"
   ]
  },
  {
   "cell_type": "markdown",
   "metadata": {},
   "source": [
    "#### <b>EXPLORATORY DATA ANALYSIS, (E.D.A)</b>"
   ]
  },
  {
   "cell_type": "markdown",
   "metadata": {},
   "source": [
    "- A BAR CHART DISPLAYING THE VARIOUS AGES OF THIS DATASET."
   ]
  },
  {
   "cell_type": "code",
   "execution_count": null,
   "metadata": {},
   "outputs": [],
   "source": [
    "# Extract the values from the 'Age' column and count occurrences\n",
    "age_counts = online_food['Age'].value_counts().reset_index()\n",
    "age_counts.columns = ['Age', 'Count']\n",
    "\n",
    "# Create the bar chart with color grading\n",
    "fig = px.bar(age_counts, x='Age', y='Count', title='Age Distribution',\n",
    "             labels={'Age': 'Age', 'Count': 'Number of People'},\n",
    "             color='Age', color_continuous_scale='Viridis')\n",
    "\n",
    "# Show the plot\n",
    "fig.show()"
   ]
  },
  {
   "cell_type": "markdown",
   "metadata": {},
   "source": [
    "CREATE AN AGE GROUP BASED ON AGE RANGES"
   ]
  },
  {
   "cell_type": "code",
   "execution_count": null,
   "metadata": {},
   "outputs": [],
   "source": [
    "bins = [0, 10, 20, 30, 40]\n",
    "labels = ['0-10', '11-20', '21-30', '31-40']\n",
    "online_food['Age Group'] = pd.cut(online_food['Age'], bins=bins, labels=labels)\n",
    "online_food"
   ]
  },
  {
   "cell_type": "markdown",
   "metadata": {},
   "source": [
    "MEAN VALUE OF AGE"
   ]
  },
  {
   "cell_type": "code",
   "execution_count": null,
   "metadata": {},
   "outputs": [],
   "source": [
    "mean_value = online_food['Age'].mean()\n",
    "print('The mean value for age is',mean_value)"
   ]
  },
  {
   "cell_type": "markdown",
   "metadata": {},
   "source": [
    "MEDIAN VALUE OF AGE"
   ]
  },
  {
   "cell_type": "code",
   "execution_count": null,
   "metadata": {},
   "outputs": [],
   "source": [
    "median_value = online_food['Age'].median()\n",
    "print('The median value for age is',median_value)"
   ]
  },
  {
   "cell_type": "markdown",
   "metadata": {},
   "source": [
    "MODE VALUE OF AGE"
   ]
  },
  {
   "cell_type": "code",
   "execution_count": null,
   "metadata": {},
   "outputs": [],
   "source": [
    "mode_value = online_food['Age'].mode().values[0]\n",
    "print('The median value for age is',mode_value)"
   ]
  },
  {
   "cell_type": "markdown",
   "metadata": {},
   "source": [
    "CHECK THE TOTAL AND PERCENTAGE OF GENDER"
   ]
  },
  {
   "cell_type": "code",
   "execution_count": null,
   "metadata": {},
   "outputs": [],
   "source": [
    "# Calculate the counts and percentages\n",
    "gender_counts = online_food['Gender'].value_counts().reset_index()\n",
    "gender_counts.columns = ['Gender', 'Count']\n",
    "#gender_counts['Percentage'] *= 100\n",
    "\n",
    "# Create the donut chart\n",
    "fig = px.pie(gender_counts, values='Count', names='Gender', \n",
    "             title='Gender Distribution', \n",
    "             hole=0.3,  # Set the size of the hole for the donut chart\n",
    "             labels={'Gender': 'Gender', 'Percentage': 'Percentage (%)'},\n",
    "             color_discrete_sequence=px.colors.qualitative.Pastel)  # Set colors for the segments\n",
    "\n",
    "# Add data labels\n",
    "fig.update_traces(textposition='inside', textinfo='percent+label')\n",
    "\n",
    "# Show the plot\n",
    "fig.show()"
   ]
  },
  {
   "cell_type": "markdown",
   "metadata": {},
   "source": [
    "CHECK THE TOTAL AND PERCENTAGE OF MARITAL STATUS"
   ]
  },
  {
   "cell_type": "code",
   "execution_count": null,
   "metadata": {},
   "outputs": [],
   "source": [
    "marital_status_counts = online_food['Marital Status'].value_counts().reset_index()\n",
    "marital_status_counts.columns = ['Marital Status', 'Count']\n",
    "\n",
    "#colors = ['#636EFA', '#EF553B', '#00CC96', '#AB63FA']\n",
    "\n",
    "# Create the pie chart\n",
    "fig = px.pie(marital_status_counts, names='Marital Status', \n",
    "                values='Count', hole=0.3, \n",
    "                title='Marital Status Distribution', \n",
    "                color_discrete_sequence=px.colors.qualitative.Pastel)\n",
    "\n",
    "# Update the chart to add data labels\n",
    "fig.update_traces(textinfo='percent+label')\n",
    "\n",
    "# Show the plot\n",
    "fig.show()"
   ]
  },
  {
   "cell_type": "markdown",
   "metadata": {},
   "source": [
    "CHECK THE TOTAL AND PERCENTAGE OF OCCUPATION"
   ]
  },
  {
   "cell_type": "code",
   "execution_count": null,
   "metadata": {},
   "outputs": [],
   "source": [
    "# Calculate the counts and percentages\n",
    "occupation_counts = online_food['Occupation'].value_counts().reset_index()\n",
    "occupation_counts.columns = ['Occupation', 'Count']\n",
    "occupation_counts['Percentage'] = ((occupation_counts['Count'] / occupation_counts['Count'].sum()) * 100).round(1)\n",
    "\n",
    "# Create the bar chart with color grading\n",
    "fig = px.bar(occupation_counts, x='Occupation', y='Count', title='Occupation Distribution',\n",
    "             labels={'Occupation': 'Occupation', 'Count': 'Count'},\n",
    "             color='Occupation', color_continuous_scale='Viridis',\n",
    "             hover_data={'Percentage': ':.1f%'})\n",
    "\n",
    "# Add data labels (optional)\n",
    "fig.update_traces(texttemplate='%{y}', textposition='inside')\n",
    "\n",
    "# Show the plot\n",
    "fig.show()"
   ]
  },
  {
   "cell_type": "markdown",
   "metadata": {},
   "source": [
    "CHECK THE TOTAL AND PERCENTAGE OF MONTHLY INCOME"
   ]
  },
  {
   "cell_type": "code",
   "execution_count": null,
   "metadata": {},
   "outputs": [],
   "source": [
    "# Calculate the counts and percentages\n",
    "monthly_income_counts = online_food['Monthly Income'].value_counts().reset_index()\n",
    "monthly_income_counts.columns = ['Monthly Income', 'Count']\n",
    "monthly_income_counts['Percentage'] = ((monthly_income_counts['Count'] / monthly_income_counts['Count'].sum()) * 100).round(1)\n",
    "\n",
    "# Create the bar chart with color grading\n",
    "fig = px.bar(monthly_income_counts, x='Monthly Income', y='Count', title='Monthly Income Distribution',\n",
    "             labels={'Monthly Income': 'Monthly Income', 'Count': 'Count'},\n",
    "             color='Monthly Income', color_continuous_scale='Viridis',\n",
    "             hover_data={'Percentage': ':.1f%'})\n",
    "\n",
    "# Add data labels (optional)\n",
    "fig.update_traces(texttemplate='%{y}', textposition='inside')\n",
    "\n",
    "# Show the plot\n",
    "fig.show()"
   ]
  },
  {
   "cell_type": "markdown",
   "metadata": {},
   "source": [
    "CHECK THE TOTAL AND PERCENTAGE OF EDUCATIONAL QUALIFICATIONS"
   ]
  },
  {
   "cell_type": "code",
   "execution_count": null,
   "metadata": {},
   "outputs": [],
   "source": [
    "# Calculate the counts and percentages\n",
    "edu_qual_counts_counts = online_food['Educational Qualifications'].value_counts().reset_index()\n",
    "edu_qual_counts.columns = ['Educational Qualifications', 'Count']\n",
    "edu_qual_counts['Percentage'] = ((edu_qual_counts['Count'] / edu_qual_counts['Count'].sum()) * 100).round(1)\n",
    "\n",
    "# Create the bar chart with color grading\n",
    "fig = px.bar(edu_qual_counts, x='Educational Qualifications', y='Count', title='Educational Qualification Distribution',\n",
    "             labels={'Educational Qualifications': 'Educational Qualifications', 'Count': 'Count'},\n",
    "             color='Educational Qualifications', color_continuous_scale='Viridis',\n",
    "             hover_data={'Percentage': ':.1f%'})\n",
    "\n",
    "# Add data labels (optional)\n",
    "fig.update_traces(texttemplate='%{y}', textposition='inside')\n",
    "\n",
    "# Show the plot\n",
    "fig.show()"
   ]
  },
  {
   "cell_type": "markdown",
   "metadata": {},
   "source": [
    "CHECK THE TOTAL AND PERCENTAGE OF FAMILY SIZE"
   ]
  },
  {
   "cell_type": "code",
   "execution_count": null,
   "metadata": {},
   "outputs": [],
   "source": [
    "# Calculate the counts and percentages\n",
    "family_size_counts = online_food['Family size'].value_counts().reset_index()\n",
    "family_size_counts.columns = ['Family size', 'Count']\n",
    "family_size_counts['Percentage'] = ((family_size_counts['Count'] / family_size_counts['Count'].sum()) * 100).round(1)\n",
    "\n",
    "# Create the bar chart with color grading\n",
    "fig = px.bar(family_size_counts, x='Family size', y='Count', title='Family size Distribution',\n",
    "             labels={'Family size': 'Family sizes', 'Count': 'Count'},\n",
    "             color='Family size', color_continuous_scale='Viridis',\n",
    "             hover_data={'Percentage': ':.1f%'})\n",
    "\n",
    "# Add data labels (optional)\n",
    "fig.update_traces(texttemplate='%{y}', textposition='inside')\n",
    "\n",
    "# Show the plot\n",
    "fig.show()"
   ]
  },
  {
   "cell_type": "code",
   "execution_count": null,
   "metadata": {},
   "outputs": [],
   "source": [
    "# Extract the values from the 'Age' column and count occurrences\n",
    "pin_code_counts = online_food['Pin code'].value_counts().reset_index()\n",
    "pin_code_counts.columns = ['Pin Code', 'Count']\n",
    "\n",
    "# Create the bar chart with color grading\n",
    "fig = px.bar(pin_code_counts, x='Pin Code', y='Count', title='Pin Code Distribution',\n",
    "             labels={'Pin Code': 'Pin Code', 'Count': 'Pin Code'},\n",
    "             color='Pin Code', color_continuous_scale='Viridis')\n",
    "\n",
    "# Show the plot\n",
    "fig.show()"
   ]
  },
  {
   "cell_type": "code",
   "execution_count": null,
   "metadata": {},
   "outputs": [],
   "source": [
    "output_counts = online_food['Output'].value_counts().reset_index()\n",
    "output_counts.columns = ['Output', 'Count']\n",
    "\n",
    "#colors = ['#636EFA', '#EF553B', '#00CC96', '#AB63FA']\n",
    "\n",
    "# Create the pie chart\n",
    "fig = px.pie(output_counts, names='Output', \n",
    "                values='Count', hole=0.3, \n",
    "                title='Output Distribution', \n",
    "                color_discrete_sequence=px.colors.qualitative.Pastel)\n",
    "\n",
    "# Update the chart to add data labels\n",
    "#fig.update_traces(textinfo='percent+label+value')\n",
    "\n",
    "# Show the plot\n",
    "fig.show()"
   ]
  },
  {
   "cell_type": "code",
   "execution_count": null,
   "metadata": {},
   "outputs": [],
   "source": [
    "# Calculate the counts and percentages\n",
    "feedback_counts = online_food['Feedback'].value_counts().reset_index()\n",
    "feedback_counts.columns = ['Feedback', 'Percentage']\n",
    "feedback_counts['Percentage'] *= 100\n",
    "\n",
    "# Create the donut chart\n",
    "fig = px.pie(feedback_counts, values='Percentage', names='Feedback', \n",
    "             title='Feedback Distribution', \n",
    "             hole=0.3,  # Set the size of the hole for the donut chart\n",
    "             labels={'Feedback': 'Feedback', 'Percentage': 'Percentage (%)'},\n",
    "             color_discrete_sequence=px.colors.qualitative.Pastel)  # Set colors for the segments\n",
    "\n",
    "# Add data labels\n",
    "fig.update_traces(textposition='inside', textinfo='percent+label+value')\n",
    "\n",
    "# Show the plot\n",
    "fig.show()"
   ]
  },
  {
   "cell_type": "markdown",
   "metadata": {},
   "source": [
    "- VISUALIZATION FOR NUMERICAL VARIABLE"
   ]
  },
  {
   "cell_type": "code",
   "execution_count": null,
   "metadata": {},
   "outputs": [],
   "source": [
    "# Visualization (box plot for numerical variable)\n",
    "plt.figure(figsize=(8,8))\n",
    "sns.boxplot(online_food['Age'])\n",
    "plt.title('Box Plot')\n",
    "plt.xlabel('Age')\n",
    "plt.show()"
   ]
  },
  {
   "cell_type": "markdown",
   "metadata": {},
   "source": [
    "- BIVARIATE ANALYSIS"
   ]
  },
  {
   "cell_type": "code",
   "execution_count": null,
   "metadata": {},
   "outputs": [],
   "source": [
    "#Bivariate analysis for 'Age' vs 'Output'\n",
    "fig = px.box(online_food, x='Age', y='Output', title='Age vs Output')\n",
    "fig.update_xaxes(title='Age')\n",
    "fig.update_yaxes(title='Output')\n",
    "fig.show()\n",
    "\n",
    "\n",
    "# Bivariate analysis for 'Age' vs 'Marital Status'\n",
    "fig = px.histogram(online_food, x='Age', color='Marital Status', \n",
    "                   title='Age vs Marital Status',\n",
    "                   labels={'Age': 'Age', 'Marital Status': 'Marital Status', 'count': 'Count'},\n",
    "                   barmode='group')\n",
    "\n",
    "fig.update_layout(xaxis_title='Age', yaxis_title='Count')\n",
    "fig.show()\n",
    "\n",
    "\n",
    "# Bivariate analysis for 'Age' vs 'Monthly Income'\n",
    "fig = px.histogram(online_food, x='Age', color='Monthly Income', \n",
    "             title='Age vs Monthly Income', \n",
    "             labels={'Age': 'Age', 'Monthly Income': 'Monthly Income', 'count': 'Count'})\n",
    "\n",
    "fig.update_layout(xaxis_title='Age', yaxis_title='Count')\n",
    "fig.show()\n",
    "\n",
    "\n",
    "# Bivariate analysis for 'Age' vs 'Occupation'\n",
    "fig = px.histogram(online_food, x='Age', color='Occupation', \n",
    "             title='Age vs Occupation', \n",
    "             labels={'Age': 'Age', 'Occupation': 'Occupation', 'count': 'Count'})\n",
    "\n",
    "fig.update_layout(xaxis_title='Age', yaxis_title='Count')\n",
    "fig.show()\n",
    "\n",
    "\n",
    "# Bivariate analysis for 'Gender' vs 'Output'\n",
    "fig = px.histogram(online_food, x='Gender', color='Educational Qualifications', \n",
    "             title='Gender vs Educational Qualifications', \n",
    "             labels={'Gender': 'Gender', 'Educational Qualifications': 'Educational Qualifications', 'count': 'Count'})\n",
    "\n",
    "fig.update_layout(xaxis_title='Gender', yaxis_title='Count')\n",
    "fig.show()\n",
    "\n",
    "\n",
    "#Bivariate analysis for 'Marital Status' vs 'Gender'\n",
    "# Create a cross-tabulation\n",
    "cross_tab = pd.crosstab(online_food['Gender'], online_food['Marital Status'])\n",
    "\n",
    "# Plot the heatmap\n",
    "fig = px.imshow(cross_tab,\n",
    "                labels=dict(x=\"Marital Status\", y=\"Gender\", color=\"Count\"),\n",
    "                x=cross_tab.columns,\n",
    "                y=cross_tab.index,\n",
    "                color_continuous_scale='viridis')\n",
    "\n",
    "fig.update_layout(title='Gender vs. Marital Status',\n",
    "                  xaxis_title='Marital Status',\n",
    "                  yaxis_title='Gender')\n",
    "\n",
    "fig.show()\n",
    "\n",
    "\n",
    "# Bivariate analysis for 'Gender' vs 'Output'\n",
    "fig = px.histogram(online_food, x='Gender', color='Output', \n",
    "                   title='Gender vs Output',\n",
    "                   labels={'Gender': 'Gender', 'Output': 'Output', 'count': 'Count'},\n",
    "                   barmode='group')\n",
    "\n",
    "fig.update_layout(xaxis_title='Gender', yaxis_title='Count')\n",
    "fig.show()\n",
    "\n",
    "\n",
    "# Bivariate analysis for 'Marital Status' vs 'Output'\n",
    "fig = px.histogram(online_food, x='Marital Status', color='Output', \n",
    "                   title='Marital Status vs Output',\n",
    "                   labels={'Marital Status': 'Marital Status', 'Output': 'Output', 'count': 'Count'},\n",
    "                   barmode='group')\n",
    "\n",
    "fig.update_layout(xaxis_title='Marital Status', yaxis_title='Count')\n",
    "fig.show()\n",
    "\n",
    "# Bivariate analysis for 'Marital Status' vs 'Monthly Income'\n",
    "fig = px.histogram(online_food, x='Marital Status', color='Monthly Income', \n",
    "                   title='Marital Status vs Monthly Income',\n",
    "                   labels={'Marital Status': 'Marital Status', 'Monthly Income': 'Monthly Income', 'count': 'Count'},\n",
    "                   barmode='group')\n",
    "\n",
    "fig.update_layout(xaxis_title='Marital Status', yaxis_title='Monthly Income')\n",
    "fig.show()\n",
    "\n",
    "\n",
    "# Bivariate analysis for 'Occupation' vs 'Output'\n",
    "fig = px.histogram(online_food, x='Occupation', color='Output', \n",
    "                   title='Occupation vs Output',\n",
    "                   labels={'Occupation': 'Occupation', 'Output': 'Output', 'count': 'Count'},\n",
    "                   barmode='group')\n",
    "\n",
    "fig.update_layout(xaxis_title='Occupation', yaxis_title='Count')\n",
    "fig.show()\n",
    "\n",
    "\n",
    "# Bivariate analysis for 'Educational Qualifications' vs 'Output'\n",
    "fig = px.histogram(online_food, x='Educational Qualifications', color='Output', \n",
    "                   title='Educational Qualifications vs Output',\n",
    "                   labels={'Educational Qualifications': 'Educational Qualifications', 'Output': 'Output', 'count': 'Count'},\n",
    "                   barmode='group')\n",
    "\n",
    "fig.update_layout(xaxis_title='Educational Qualifications', yaxis_title='Count')\n",
    "fig.show()\n",
    "\n",
    "\n",
    "# Bivariate analysis for 'Family size' vs 'Output'\n",
    "fig = px.box(online_food, x='Output', y='Family size', \n",
    "             title='Family size vs Output', \n",
    "             labels={'Output': 'Output', 'Family size': 'Family size'})\n",
    "\n",
    "fig.update_xaxes(title='Output')\n",
    "fig.update_yaxes(title='Family size')\n",
    "fig.show()\n",
    "\n",
    "\n",
    "# Bivariate analysis for 'Feedback' vs 'Output'\n",
    "fig = px.histogram(online_food, x='Feedback', color='Output', \n",
    "                   title='Feedback vs Output',\n",
    "                   labels={'Feedback': 'Feedback', 'Output': 'Output', 'count': 'Count'},\n",
    "                   barmode='group')\n",
    "\n",
    "fig.update_layout(xaxis_title='Feedback', yaxis_title='Count')\n",
    "fig.show()\n",
    "\n",
    "\n",
    "# Bivariate analysis for 'Monthly Income' vs 'Gender'\n",
    "fig = px.histogram(online_food, x='Monthly Income', color='Gender', \n",
    "                   title='Monthly Income vs Gender',\n",
    "                   labels={'Monthly Income': 'Monthly Income', 'Gender': 'Gender', 'count': 'Count'},\n",
    "                   barmode='group')\n",
    "\n",
    "fig.update_layout(xaxis_title='Educational Qualifications', yaxis_title='Count')\n",
    "fig.show()"
   ]
  },
  {
   "cell_type": "markdown",
   "metadata": {},
   "source": [
    "- MULTIVARIATE ANALYSIS"
   ]
  },
  {
   "cell_type": "code",
   "execution_count": null,
   "metadata": {},
   "outputs": [],
   "source": [
    "# Pairplot for numerical variables\n",
    "# Create the pairplot\n",
    "g = sns.pairplot(online_food, diag_kind='kde', height=3, aspect=1.5)\n",
    "g.fig.suptitle('Pairplot of Numerical Variables', y=1.02)\n",
    "\n",
    "# Adjust plot aesthetics\n",
    "plt.tight_layout(rect=[0, 0, 1, 0.96])\n",
    "\n",
    "# Show the plot\n",
    "plt.show()\n",
    "\n",
    "\n",
    "# Boxplot of 'Rating' by 'Gender' and 'Marital Status'\n",
    "plt.figure(figsize=(12, 6))\n",
    "sns.boxplot(x='Age', y='Marital Status', hue='Family size', data=online_food)\n",
    "plt.title('Age by Marital Status and Family size')\n",
    "plt.xlabel('Age')\n",
    "plt.ylabel('Marital Status')\n",
    "plt.show()\n",
    "\n",
    "\n",
    "# Barplot of 'Feedback' by 'Occupation' and 'Educational Qualifications'\n",
    "plt.figure(figsize=(10, 6))\n",
    "sns.histplot(x='Occupation', y='Feedback', hue='Educational Qualifications', data=online_food)\n",
    "plt.title('Feedback by Occupation and Educational Qualifications')\n",
    "plt.xlabel('Occupation')\n",
    "plt.ylabel('Feedback')\n",
    "plt.xticks(rotation=45)\n",
    "plt.show()\n",
    "\n",
    "\n",
    "# Barplot of Feedback by Occupation and Educational Qualifications\n",
    "fig = px.bar(online_food, x='Occupation', y='Feedback', color='Educational Qualifications',\n",
    "             title='Feedback by Occupation and Educational Qualifications')\n",
    "\n",
    "fig.update_layout(xaxis_title='Occupation', yaxis_title='Feedback')\n",
    "fig.update_xaxes(tickangle=45)\n",
    "fig.show()"
   ]
  },
  {
   "cell_type": "markdown",
   "metadata": {},
   "source": [
    "#### <b>ANALYSIS QUESTIONS</b>\n",
    "\n",
    "- What is the distribution of ages among different educational qualification levels\n",
    "\n",
    "- What is the marital status variation across different occupations\n",
    "\n",
    "- What is the correlation between educational qualifications and monthly incomes in specific occupations\n",
    "\n",
    "- What is the variation in feedback sentiment across different age groups\n",
    "\n",
    "- Which occupation gave the highest value for positive feedback?\n",
    "\n",
    "- What is the Correlation between family size and feedback?\n",
    "\n",
    "- Is there any geographic trend in monthly income based on latitude and longitude?"
   ]
  },
  {
   "cell_type": "markdown",
   "metadata": {},
   "source": [
    "1. What is the distribution of ages among different educational qualification levels"
   ]
  },
  {
   "cell_type": "code",
   "execution_count": null,
   "metadata": {},
   "outputs": [],
   "source": [
    "# Assuming 'online_food' is your DataFrame\n",
    "fig = px.box(online_food, x='Educational Qualifications', y='Age', \n",
    "             title='Distribution of Ages by Educational Qualifications',\n",
    "             labels={'Educational Qualifications': 'Educational Qualifications', 'Age': 'Age'})\n",
    "\n",
    "fig.update_layout(xaxis_tickangle=-45)\n",
    "\n",
    "fig.show()"
   ]
  },
  {
   "cell_type": "markdown",
   "metadata": {},
   "source": [
    "2. Marital status variation across different occupations"
   ]
  },
  {
   "cell_type": "code",
   "execution_count": null,
   "metadata": {},
   "outputs": [],
   "source": [
    "marital_status_occupation = pd.crosstab(online_food['Occupation'], online_food['Marital Status'])\n",
    "\n",
    "# Reindex the DataFrame to ensure all marital status categories are present\n",
    "marital_status_occupation = marital_status_occupation.reindex(columns=['Single', 'Married', 'Divorced'], fill_value=0)\n",
    "\n",
    "# Reset index to convert the result to a DataFrame\n",
    "marital_status_occupation.reset_index(inplace=True)\n",
    "\n",
    "# Melt the DataFrame to long format\n",
    "melted_online_food = pd.melt(marital_status_occupation, id_vars=['Occupation'], value_vars=['Single', 'Married', 'Divorced'], \n",
    "                    var_name='Marital Status', value_name='Count')\n",
    "\n",
    "# Plot using Plotly Express\n",
    "fig = px.bar(melted_online_food, x='Occupation', y='Count', color='Marital Status', title='Marital Status Variation Across Occupations',\n",
    "             labels={'Occupation': 'Occupation', 'Count': 'Count', 'Marital Status': 'Marital Status'},\n",
    "             barmode='stack')\n",
    "\n",
    "fig.update_layout(xaxis_tickangle=-45)\n",
    "fig.show()"
   ]
  },
  {
   "cell_type": "markdown",
   "metadata": {},
   "source": [
    "3. Correlation between educational qualifications and monthly incomes in specific occupations"
   ]
  },
  {
   "cell_type": "code",
   "execution_count": null,
   "metadata": {},
   "outputs": [],
   "source": [
    "fig = px.scatter(online_food, x='Educational Qualifications', y='Monthly Income', color='Occupation',\n",
    "                 title='Correlation between Educational Qualifications and Monthly Incomes in Specific Occupations',\n",
    "                 labels={'Educational Qualifications': 'Educational Qualifications', 'Monthly Income': 'Monthly Income'},\n",
    "                 category_orders={'Occupation': ['Occupation1', 'Occupation2', 'Occupation3']})\n",
    "\n",
    "fig.update_layout(xaxis_tickangle=-45)\n",
    "fig.show()"
   ]
  },
  {
   "cell_type": "markdown",
   "metadata": {},
   "source": [
    "4. Variation in feedback sentiment across different age groups"
   ]
  },
  {
   "cell_type": "code",
   "execution_count": null,
   "metadata": {},
   "outputs": [],
   "source": [
    "fig = px.histogram(online_food, x='Age Group', color='Feedback', \n",
    "             title='Variation in Feedback Sentiment Across Age Groups',\n",
    "             labels={'Age Group': 'Age Group', 'Feedback': 'Feedback Sentiment', 'count': 'Count'})\n",
    "\n",
    "fig.show()"
   ]
  },
  {
   "cell_type": "markdown",
   "metadata": {},
   "source": [
    "5. Which occupation gave the highest value for positive feedback?"
   ]
  },
  {
   "cell_type": "code",
   "execution_count": null,
   "metadata": {},
   "outputs": [],
   "source": [
    "# Filtering the dataset for positive feedback\n",
    "positive_feedback_data = online_food[online_food['Feedback'] == 'Positive']\n",
    "\n",
    "# Count the occurrences of each occupation\n",
    "occupation_counts = positive_feedback_data['Occupation'].value_counts().reset_index()\n",
    "occupation_counts.columns = ['Occupation', 'Count']\n",
    "\n",
    "# Create a bar plot using Plotly Express\n",
    "fig = px.bar(occupation_counts, x='Occupation', y='Count', \n",
    "             title='Occupations Among Customers Giving Positive Feedback',\n",
    "             labels={'Occupation': 'Occupation', 'Count': 'Count'})\n",
    "\n",
    "# Rotate x-axis labels for better readability\n",
    "fig.update_layout(xaxis_tickangle=-45)\n",
    "\n",
    "fig.show()"
   ]
  },
  {
   "cell_type": "markdown",
   "metadata": {},
   "source": [
    "6. What is the correlation between family size and feedback?"
   ]
  },
  {
   "cell_type": "code",
   "execution_count": null,
   "metadata": {},
   "outputs": [],
   "source": [
    "fig = px.scatter(online_food, x='Family size', y='Feedback', \n",
    "                 title='Correlation between Family Size and Feedback Score', \n",
    "                 labels={'Family size': 'Family Size', 'Feedback': 'Feedback Score'})\n",
    "\n",
    "fig.show()"
   ]
  },
  {
   "cell_type": "markdown",
   "metadata": {},
   "source": [
    "7. Is there any geographic trend in monthly income based on latitude and longitude?"
   ]
  },
  {
   "cell_type": "code",
   "execution_count": null,
   "metadata": {},
   "outputs": [],
   "source": [
    "fig = px.scatter(online_food, x='longitude', y='latitude', \n",
    "                 color='Monthly Income', \n",
    "                 title='Geographic Trend in Monthly Income', \n",
    "                 labels={'longitude': 'Longitude', 'latitude': 'Latitude'},\n",
    "                 color_continuous_scale='Viridis')\n",
    "\n",
    "fig.show()"
   ]
  },
  {
   "cell_type": "markdown",
   "metadata": {},
   "source": [
    "CORRELATION HEATMAP"
   ]
  },
  {
   "cell_type": "markdown",
   "metadata": {},
   "source": [
    "# Drop the 'Age Group' column\n",
    "online_food_without_age_group = online_food.drop(columns=['Age Group', 'Gender', 'Marital Status'])\n",
    "\n",
    "# Heatmap for correlation excluding 'Age Group'\n",
    "plt.figure(figsize=(10, 10))\n",
    "correlation_matrix = online_food_without_age_group.corr()\n",
    "sns.heatmap(correlation_matrix, annot=True, cmap='coolwarm', fmt=\".2f\")\n",
    "plt.title('Correlation Heatmap')\n",
    "plt.show()"
   ]
  },
  {
   "cell_type": "markdown",
   "metadata": {},
   "source": [
    "LABEL ENCODING"
   ]
  },
  {
   "cell_type": "code",
   "execution_count": null,
   "metadata": {},
   "outputs": [],
   "source": [
    "# Initialize LabelEncoder\n",
    "label_encoder = LabelEncoder()\n",
    "\n",
    "# Iterate over categorical columns and apply label encoding\n",
    "for column in ['Output']:\n",
    "    online_food[column] = label_encoder.fit_transform(online_food[column].values)\n",
    "\n",
    "# Display the encoded dataset\n",
    "online_food"
   ]
  },
  {
   "cell_type": "markdown",
   "metadata": {},
   "source": [
    "<b> MODELLING </b>"
   ]
  },
  {
   "cell_type": "code",
   "execution_count": null,
   "metadata": {},
   "outputs": [],
   "source": [
    "# Load the dataset\n",
    "X = online_food[['Age', 'Family size']]\n",
    "y = online_food['Output']\n",
    "\n",
    "# Split the dataset into train and test sets\n",
    "X_train, X_test, y_train, y_test = train_test_split(X, y, test_size=0.3, random_state=42)\n",
    "\n",
    "# Feature scaling\n",
    "scaler = StandardScaler()\n",
    "X_train = scaler.fit_transform(X_train)\n",
    "X_test = scaler.transform(X_test)\n",
    "\n",
    "# Define models\n",
    "models = {\n",
    "    \"Logistic Regression\": LogisticRegression(),\n",
    "    \"Random Forest\": RandomForestClassifier(),\n",
    "    \"Support Vector Machine\": SVC()\n",
    "}\n",
    "\n",
    "# Create a pipeline for each model\n",
    "pipelines = {}\n",
    "for name, model in models.items():\n",
    "    pipelines[name] = Pipeline([\n",
    "        (\"scaler\", scaler),\n",
    "        (\"model\", model)\n",
    "    ])\n",
    "\n",
    "# Train and evaluate models using pipelines\n",
    "for name, pipeline in pipelines.items():\n",
    "    pipeline.fit(X_train, y_train)\n",
    "    y_pred = pipeline.predict(X_test)\n",
    "    accuracy = accuracy_score(y_test, y_pred)\n",
    "    classification = classification_report(y_test, y_pred)\n",
    "    print(f\"{name} Metrics:\")\n",
    "    print(f\"Accuracy: {accuracy}\")\n",
    "    print(f\"Classification Report:\\n{classification}\\n\")"
   ]
  },
  {
   "cell_type": "markdown",
   "metadata": {},
   "source": [
    "CHECK FOR DATA IMBALANCE"
   ]
  },
  {
   "cell_type": "code",
   "execution_count": null,
   "metadata": {},
   "outputs": [],
   "source": [
    "target_counts = online_food['Output'].value_counts().reset_index()\n",
    "target_counts.columns = ['Output', 'Count']\n",
    "\n",
    "# Create the bar plot\n",
    "fig = px.bar(target_counts, x='Output', y='Count', title='Class Distribution')\n",
    "\n",
    "# Show the plot\n",
    "fig.show()"
   ]
  },
  {
   "cell_type": "code",
   "execution_count": null,
   "metadata": {},
   "outputs": [],
   "source": [
    "print('Original dataset shape %s' % Counter(y_train))\n",
    "\n",
    "ros = RandomOverSampler(random_state=42)\n",
    "X_resampled, y_resampled = ros.fit_resample(X_train, y_train)\n",
    "print('Resampled dataset shape %s' % Counter(y_resampled))"
   ]
  },
  {
   "cell_type": "code",
   "execution_count": null,
   "metadata": {},
   "outputs": [],
   "source": [
    "classifier = RandomForestClassifier(class_weight='balanced')"
   ]
  },
  {
   "cell_type": "markdown",
   "metadata": {},
   "source": [
    "HYPERPARAMETER TUNING"
   ]
  },
  {
   "cell_type": "code",
   "execution_count": null,
   "metadata": {},
   "outputs": [],
   "source": [
    "# Define the model\n",
    "model = RandomForestClassifier()\n",
    "\n",
    "# Define the grid of hyperparameters\n",
    "param_grid = {\n",
    "    'n_estimators': [50, 100, 150],\n",
    "    'max_depth': [None, 5, 10],\n",
    "    'min_samples_split': [2, 5, 10]\n",
    "}\n",
    "\n",
    "# Initialize GridSearchCV\n",
    "grid_search = GridSearchCV(estimator=model, param_grid=param_grid, cv=5, scoring='accuracy')\n",
    "\n",
    "# Perform Grid Search\n",
    "grid_search.fit(X, y)\n",
    "\n",
    "# Print the best hyperparameters\n",
    "print(\"Best Hyperparameters:\", grid_search.best_params_)"
   ]
  },
  {
   "cell_type": "markdown",
   "metadata": {},
   "source": [
    "#### <b> ONLINE PREDICTION APP </b>"
   ]
  },
  {
   "cell_type": "code",
   "execution_count": null,
   "metadata": {},
   "outputs": [],
   "source": [
    "app = Flask(__prediction.py__)\n",
    "\n",
    "# Load the pre-trained model\n",
    "model = pickle.load(open('model.pkl','rb'))\n",
    "\n",
    "@app.route('/')\n",
    "def home():\n",
    "    return render_template('index.html')\n",
    "\n",
    "@app.route('/predict', methods=['POST'])\n",
    "def predict():\n",
    "    # Get user input from the form\n",
    "    age = int(request.form['age'])\n",
    "    monthly_income = int(request.form['monthly_income'])\n",
    "    family_size = int(request.form['family_size'])\n",
    "\n",
    "    # Make prediction using the model\n",
    "    prediction = model.predict([[age, monthly_income, family_size]])\n",
    "\n",
    "    # Map prediction to human-readable output\n",
    "    output = \"Satisfied\" if prediction[0] == 1 else \"Not Satisfied\"\n",
    "\n",
    "    return render_template('index.html', prediction_text='Customer is {}'.format(output))\n",
    "\n",
    "if __name__ == '__main__':\n",
    "    app.run(debug=True)"
   ]
  }
 ],
 "metadata": {
  "kernelspec": {
   "display_name": "Python 3",
   "language": "python",
   "name": "python3"
  },
  "language_info": {
   "codemirror_mode": {
    "name": "ipython",
    "version": 3
   },
   "file_extension": ".py",
   "mimetype": "text/x-python",
   "name": "python",
   "nbconvert_exporter": "python",
   "pygments_lexer": "ipython3",
   "version": "3.11.1"
  }
 },
 "nbformat": 4,
 "nbformat_minor": 2
}
