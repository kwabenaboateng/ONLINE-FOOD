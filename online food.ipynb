{
 "cells": [
  {
   "cell_type": "markdown",
   "metadata": {},
   "source": [
    "## <center><b>ONLINE FOOD DATASET.</b></center>"
   ]
  },
  {
   "cell_type": "markdown",
   "metadata": {},
   "source": [
    "IMPORT LIBRARY PACKAGES"
   ]
  },
  {
   "cell_type": "code",
   "execution_count": null,
   "metadata": {},
   "outputs": [],
   "source": [
    "import numpy as np\n",
    "import pandas as pd\n",
    "import seaborn as sns\n",
    "import plotly.express as px\n",
    "import matplotlib.pyplot as plt\n",
    "import warnings\n",
    "warnings.filterwarnings('always') \n",
    "import shap\n",
    "import pickle\n",
    "\n",
    "# Model Classifier\n",
    "from sklearn.svm import SVC\n",
    "from xgboost import XGBClassifier\n",
    "from sklearn.utils import resample\n",
    "from sklearn.naive_bayes import MultinomialNB\n",
    "from sklearn.preprocessing import LabelEncoder\n",
    "from sklearn.neighbors import KNeighborsClassifier\n",
    "from sklearn.model_selection import cross_val_score\n",
    "from sklearn.ensemble import RandomForestClassifier\n",
    "from sklearn.model_selection import train_test_split\n",
    "from flask import Flask, render_template, request\n",
    "from sklearn.model_selection import train_test_split, cross_val_score, GridSearchCV\n",
    "from sklearn.metrics import accuracy_score, classification_report, confusion_matrix, roc_auc_score"
   ]
  },
  {
   "cell_type": "markdown",
   "metadata": {},
   "source": [
    "LOAD AND DISPLAY DATA"
   ]
  },
  {
   "cell_type": "code",
   "execution_count": null,
   "metadata": {},
   "outputs": [],
   "source": [
    "online_food = pd.read_csv('onlinefoods.csv')\n",
    "online_food.head()"
   ]
  },
  {
   "cell_type": "markdown",
   "metadata": {},
   "source": [
    "#### <b> DATA PREPROCESSING </b>"
   ]
  },
  {
   "cell_type": "markdown",
   "metadata": {},
   "source": [
    "CHECK THE NUMBER OF ROWS AND COLUMNS"
   ]
  },
  {
   "cell_type": "code",
   "execution_count": null,
   "metadata": {},
   "outputs": [],
   "source": [
    "print('The total number of rows and columns is',online_food.shape,'respectively.')"
   ]
  },
  {
   "cell_type": "markdown",
   "metadata": {},
   "source": [
    "CHECK FOR THE COLUMNS"
   ]
  },
  {
   "cell_type": "code",
   "execution_count": null,
   "metadata": {},
   "outputs": [],
   "source": [
    "online_food.columns"
   ]
  },
  {
   "cell_type": "markdown",
   "metadata": {},
   "source": [
    "CHECK THE OVERALL INFO"
   ]
  },
  {
   "cell_type": "code",
   "execution_count": null,
   "metadata": {},
   "outputs": [],
   "source": [
    "online_food.info()"
   ]
  },
  {
   "cell_type": "markdown",
   "metadata": {},
   "source": [
    "CHECK FOR MISSING AND DUPLICATED VALUES"
   ]
  },
  {
   "cell_type": "code",
   "execution_count": null,
   "metadata": {},
   "outputs": [],
   "source": [
    "online_food.isna()"
   ]
  },
  {
   "cell_type": "markdown",
   "metadata": {},
   "source": [
    "CHECK THE TOTAL NUMBER OF MISSING VALUES"
   ]
  },
  {
   "cell_type": "code",
   "execution_count": null,
   "metadata": {},
   "outputs": [],
   "source": [
    "#Display the total sum of missing values in each column.\n",
    "online_food.isna().sum()"
   ]
  },
  {
   "cell_type": "markdown",
   "metadata": {},
   "source": [
    "CHECK THE TOTAL NUMBER OF DUPLICATE ROWS"
   ]
  },
  {
   "cell_type": "code",
   "execution_count": null,
   "metadata": {},
   "outputs": [],
   "source": [
    "#Check the total number of duplicate rows\n",
    "print (\"There are\",online_food.duplicated().sum(), \"duplicate values in this dataset.\")"
   ]
  },
  {
   "cell_type": "code",
   "execution_count": null,
   "metadata": {},
   "outputs": [],
   "source": [
    "#Display duplicates\n",
    "duplicates = online_food[online_food.duplicated(keep=False)]\n",
    "print(\"The duplicate rows are as shown below:\")\n",
    "\n",
    "duplicates"
   ]
  },
  {
   "cell_type": "code",
   "execution_count": null,
   "metadata": {},
   "outputs": [],
   "source": [
    "online_food.describe()"
   ]
  },
  {
   "cell_type": "code",
   "execution_count": null,
   "metadata": {},
   "outputs": [],
   "source": [
    "online_food.boxplot()"
   ]
  },
  {
   "cell_type": "markdown",
   "metadata": {},
   "source": [
    "##### <b> DATA CLEANING </b>"
   ]
  },
  {
   "cell_type": "code",
   "execution_count": null,
   "metadata": {},
   "outputs": [],
   "source": [
    "#Drop unneeded column(s)\n",
    "online_food.drop (columns=['Unnamed: 12'], inplace = True)\n",
    "online_food.head()"
   ]
  },
  {
   "cell_type": "markdown",
   "metadata": {},
   "source": [
    "#### <b>EXPLORATORY DATA ANALYSIS,(E.D.A)</b>"
   ]
  },
  {
   "cell_type": "markdown",
   "metadata": {},
   "source": [
    "UNIVARIATE ANALYSIS"
   ]
  },
  {
   "cell_type": "code",
   "execution_count": null,
   "metadata": {},
   "outputs": [],
   "source": [
    "# Columns to exclude from the loop\n",
    "exclude_columns = ['latitude', 'longitude', 'Pin code']\n",
    "\n",
    "# Loop through each column\n",
    "for column in online_food.columns:\n",
    "    # Skip excluded columns\n",
    "    if column in exclude_columns:\n",
    "        continue\n",
    "    \n",
    "    # Get unique values and their counts\n",
    "    value_counts = online_food[column].value_counts()\n",
    "    \n",
    "    # Create bar chart\n",
    "    fig = px.bar(value_counts, x=value_counts.index, y=value_counts.values, \n",
    "                 labels={'x': column, 'y': 'Count'}, \n",
    "                 title=f\"Value Counts for {column}\")\n",
    "    \n",
    "    # Show plot\n",
    "    fig.show()"
   ]
  },
  {
   "cell_type": "code",
   "execution_count": null,
   "metadata": {},
   "outputs": [],
   "source": [
    "# Central tendency\n",
    "mean_value = online_food['Age'].mean()\n",
    "median_value = online_food['Age'].median()\n",
    "mode_value = online_food['Age'].mode().values[0]"
   ]
  },
  {
   "cell_type": "code",
   "execution_count": null,
   "metadata": {},
   "outputs": [],
   "source": [
    "# Variability or dispersion\n",
    "range_value = online_food['Age'].max() - online_food['Age'].min()\n",
    "variance_value = online_food['Age'].var()\n",
    "std_deviation_value = online_food['Age'].std()"
   ]
  },
  {
   "cell_type": "code",
   "execution_count": null,
   "metadata": {},
   "outputs": [],
   "source": [
    "# Skewness and Kurtosis\n",
    "skewness_value = online_food['Age'].skew()\n",
    "kurtosis_value = online_food['Age'].kurtosis()"
   ]
  },
  {
   "cell_type": "code",
   "execution_count": null,
   "metadata": {},
   "outputs": [],
   "source": [
    "# Visualization (box plot for numerical variable)\n",
    "plt.figure(figsize=(8,8))\n",
    "sns.boxplot(online_food['Age'])\n",
    "plt.title('Box Plot')\n",
    "plt.xlabel('Age')\n",
    "plt.show()"
   ]
  },
  {
   "cell_type": "markdown",
   "metadata": {},
   "source": [
    "BIVARIATE ANALYSIS"
   ]
  },
  {
   "cell_type": "code",
   "execution_count": null,
   "metadata": {},
   "outputs": [],
   "source": [
    "#Bivariate analysis for 'Age' vs 'Output'\n",
    "fig = px.box(online_food, x='Age', y='Output', title='Age vs Output')\n",
    "fig.update_xaxes(title='Age')\n",
    "fig.update_yaxes(title='Output')\n",
    "fig.show()\n",
    "\n",
    "\n",
    "# Bivariate analysis for 'Age' vs 'Marital Status'\n",
    "fig = px.histogram(online_food, x='Age', color='Marital Status', \n",
    "                   title='Age vs Marital Status',\n",
    "                   labels={'Age': 'Age', 'Marital Status': 'Marital Status', 'count': 'Count'},\n",
    "                   barmode='group')\n",
    "\n",
    "fig.update_layout(xaxis_title='Age', yaxis_title='Count')\n",
    "fig.show()\n",
    "\n",
    "\n",
    "# Bivariate analysis for 'Age' vs 'Monthly Income'\n",
    "fig = px.histogram(online_food, x='Age', color='Monthly Income', \n",
    "             title='Age vs Monthly Income', \n",
    "             labels={'Age': 'Age', 'Monthly Income': 'Monthly Income', 'count': 'Count'})\n",
    "\n",
    "fig.update_layout(xaxis_title='Age', yaxis_title='Count')\n",
    "fig.show()\n",
    "\n",
    "\n",
    "# Bivariate analysis for 'Age' vs 'Occupation'\n",
    "fig = px.histogram(online_food, x='Age', color='Occupation', \n",
    "             title='Age vs Occupation', \n",
    "             labels={'Age': 'Age', 'Occupation': 'Occupation', 'count': 'Count'})\n",
    "\n",
    "fig.update_layout(xaxis_title='Age', yaxis_title='Count')\n",
    "fig.show()\n",
    "\n",
    "\n",
    "# Bivariate analysis for 'Gender' vs 'Output'\n",
    "fig = px.histogram(online_food, x='Gender', color='Educational Qualifications', \n",
    "             title='Gender vs Educational Qualifications', \n",
    "             labels={'Gender': 'Gender', 'Educational Qualifications': 'Educational Qualifications', 'count': 'Count'})\n",
    "\n",
    "fig.update_layout(xaxis_title='Gender', yaxis_title='Count')\n",
    "fig.show()\n",
    "\n",
    "\n",
    "#Bivariate analysis for 'Marital Status' vs 'Gender'\n",
    "# Create a cross-tabulation\n",
    "cross_tab = pd.crosstab(online_food['Gender'], online_food['Marital Status'])\n",
    "\n",
    "# Plot the heatmap\n",
    "fig = px.imshow(cross_tab,\n",
    "                labels=dict(x=\"Marital Status\", y=\"Gender\", color=\"Count\"),\n",
    "                x=cross_tab.columns,\n",
    "                y=cross_tab.index,\n",
    "                color_continuous_scale='viridis')\n",
    "\n",
    "fig.update_layout(title='Gender vs. Marital Status',\n",
    "                  xaxis_title='Marital Status',\n",
    "                  yaxis_title='Gender')\n",
    "\n",
    "fig.show()\n",
    "\n",
    "\n",
    "# Bivariate analysis for 'Gender' vs 'Output'\n",
    "fig = px.histogram(online_food, x='Gender', color='Output', \n",
    "                   title='Gender vs Output',\n",
    "                   labels={'Gender': 'Gender', 'Output': 'Output', 'count': 'Count'},\n",
    "                   barmode='group')\n",
    "\n",
    "fig.update_layout(xaxis_title='Gender', yaxis_title='Count')\n",
    "fig.show()\n",
    "\n",
    "\n",
    "# Bivariate analysis for 'Marital Status' vs 'Output'\n",
    "fig = px.histogram(online_food, x='Marital Status', color='Output', \n",
    "                   title='Marital Status vs Output',\n",
    "                   labels={'Marital Status': 'Marital Status', 'Output': 'Output', 'count': 'Count'},\n",
    "                   barmode='group')\n",
    "\n",
    "fig.update_layout(xaxis_title='Marital Status', yaxis_title='Count')\n",
    "fig.show()\n",
    "\n",
    "# Bivariate analysis for 'Marital Status' vs 'Monthly Income'\n",
    "fig = px.histogram(online_food, x='Marital Status', color='Monthly Income', \n",
    "                   title='Marital Status vs Monthly Income',\n",
    "                   labels={'Marital Status': 'Marital Status', 'Monthly Income': 'Monthly Income', 'count': 'Count'},\n",
    "                   barmode='group')\n",
    "\n",
    "fig.update_layout(xaxis_title='Marital Status', yaxis_title='Monthly Income')\n",
    "fig.show()\n",
    "\n",
    "\n",
    "# Bivariate analysis for 'Occupation' vs 'Output'\n",
    "fig = px.histogram(online_food, x='Occupation', color='Output', \n",
    "                   title='Occupation vs Output',\n",
    "                   labels={'Occupation': 'Occupation', 'Output': 'Output', 'count': 'Count'},\n",
    "                   barmode='group')\n",
    "\n",
    "fig.update_layout(xaxis_title='Occupation', yaxis_title='Count')\n",
    "fig.show()\n",
    "\n",
    "\n",
    "# Bivariate analysis for 'Educational Qualifications' vs 'Output'\n",
    "fig = px.histogram(online_food, x='Educational Qualifications', color='Output', \n",
    "                   title='Educational Qualifications vs Output',\n",
    "                   labels={'Educational Qualifications': 'Educational Qualifications', 'Output': 'Output', 'count': 'Count'},\n",
    "                   barmode='group')\n",
    "\n",
    "fig.update_layout(xaxis_title='Educational Qualifications', yaxis_title='Count')\n",
    "fig.show()\n",
    "\n",
    "\n",
    "# Bivariate analysis for 'Family size' vs 'Output'\n",
    "fig = px.box(online_food, x='Output', y='Family size', \n",
    "             title='Family size vs Output', \n",
    "             labels={'Output': 'Output', 'Family size': 'Family size'})\n",
    "\n",
    "fig.update_xaxes(title='Output')\n",
    "fig.update_yaxes(title='Family size')\n",
    "fig.show()\n",
    "\n",
    "\n",
    "# Bivariate analysis for 'Feedback' vs 'Output'\n",
    "fig = px.histogram(online_food, x='Feedback', color='Output', \n",
    "                   title='Feedback vs Output',\n",
    "                   labels={'Feedback': 'Feedback', 'Output': 'Output', 'count': 'Count'},\n",
    "                   barmode='group')\n",
    "\n",
    "fig.update_layout(xaxis_title='Feedback', yaxis_title='Count')\n",
    "fig.show()\n",
    "\n",
    "\n",
    "# Bivariate analysis for 'Monthly Income' vs 'Output'\n",
    "fig = px.histogram(online_food, x='Output', y='Monthly Income', \n",
    "                   title='Monthly Income vs Output',\n",
    "                   labels={'Output': 'Output', 'Monthly Income': 'Monthly Income', 'count': 'Count'})\n",
    "\n",
    "fig.update_layout(xaxis_title='Output', yaxis_title='Monthly Income')\n",
    "fig.show()"
   ]
  },
  {
   "cell_type": "markdown",
   "metadata": {},
   "source": [
    "MULTIVARIATE ANALYSIS"
   ]
  },
  {
   "cell_type": "code",
   "execution_count": null,
   "metadata": {},
   "outputs": [],
   "source": [
    "# Pairplot for numerical variables\n",
    "# Create the pairplot\n",
    "g = sns.pairplot(online_food, diag_kind='kde', height=3, aspect=1.5)\n",
    "g.fig.suptitle('Pairplot of Numerical Variables', y=1.02)\n",
    "\n",
    "# Adjust plot aesthetics\n",
    "plt.tight_layout(rect=[0, 0, 1, 0.96])\n",
    "\n",
    "# Show the plot\n",
    "plt.show()\n",
    "\n",
    "\n",
    "# Boxplot of 'Rating' by 'Gender' and 'Marital Status'\n",
    "plt.figure(figsize=(12, 6))\n",
    "sns.boxplot(x='Age', y='Marital Status', hue='Family size', data=online_food)\n",
    "plt.title('Age by Marital Status and Family size')\n",
    "plt.xlabel('Age')\n",
    "plt.ylabel('Marital Status')\n",
    "plt.show()\n",
    "\n",
    "\n",
    "# Barplot of 'Feedback' by 'Occupation' and 'Educational Qualifications'\n",
    "plt.figure(figsize=(10, 6))\n",
    "sns.histplot(x='Occupation', y='Feedback', hue='Educational Qualifications', data=online_food)\n",
    "plt.title('Feedback by Occupation and Educational Qualifications')\n",
    "plt.xlabel('Occupation')\n",
    "plt.ylabel('Feedback')\n",
    "plt.xticks(rotation=45)\n",
    "plt.show()\n",
    "\n",
    "\n",
    "# Barplot of Feedback by Occupation and Educational Qualifications\n",
    "fig = px.bar(online_food, x='Occupation', y='Feedback', color='Educational Qualifications',\n",
    "             title='Feedback by Occupation and Educational Qualifications')\n",
    "\n",
    "fig.update_layout(xaxis_title='Occupation', yaxis_title='Feedback')\n",
    "fig.update_xaxes(tickangle=45)\n",
    "fig.show()"
   ]
  },
  {
   "cell_type": "markdown",
   "metadata": {},
   "source": [
    "##### <b> FEATURE ENGINEERING <b>"
   ]
  },
  {
   "cell_type": "markdown",
   "metadata": {},
   "source": [
    "LABEL ENCODING"
   ]
  },
  {
   "cell_type": "code",
   "execution_count": null,
   "metadata": {},
   "outputs": [],
   "source": [
    "# Initialize LabelEncoder\n",
    "label_encoder = LabelEncoder()\n",
    "\n",
    "# Iterate over categorical columns and apply label encoding\n",
    "for column in ['Gender', 'Marital Status', 'Occupation', 'Monthly Income','Educational Qualifications','Output','Feedback']:\n",
    "    online_food[column] = label_encoder.fit_transform(online_food[column].values)\n",
    "\n",
    "# Display the encoded dataset\n",
    "online_food"
   ]
  },
  {
   "cell_type": "markdown",
   "metadata": {},
   "source": [
    "CORRELATION HEATMAP"
   ]
  },
  {
   "cell_type": "code",
   "execution_count": null,
   "metadata": {},
   "outputs": [],
   "source": [
    "# Heatmap for correlation\n",
    "plt.figure(figsize=(10, 10))\n",
    "correlation_matrix = online_food.corr()\n",
    "sns.heatmap(correlation_matrix, annot=True, cmap='coolwarm', fmt=\".2f\")\n",
    "plt.title('Correlation Heatmap')\n",
    "plt.show()"
   ]
  },
  {
   "cell_type": "markdown",
   "metadata": {},
   "source": [
    "##### <b> MODELLING </b>"
   ]
  },
  {
   "cell_type": "markdown",
   "metadata": {},
   "source": [
    "LOGISTIC REGRESSION"
   ]
  },
  {
   "cell_type": "code",
   "execution_count": null,
   "metadata": {},
   "outputs": [],
   "source": [
    "# Select features and target variable\n",
    "X = online_food[['Age', 'Monthly Income', 'Family size']]\n",
    "y = online_food['Output']\n",
    "\n",
    "# Split the data into training and testing sets\n",
    "X_train, X_test, y_train, y_test = train_test_split(X, y, test_size=0.2, random_state=42)\n",
    "\n",
    "# Initialize and train the random forest model\n",
    "model = RandomForestClassifier(n_estimators=100, random_state=42)\n",
    "model.fit(X_train, y_train)\n",
    "\n",
    "# Make predictions\n",
    "y_pred = model.predict(X_test)\n",
    "\n",
    "# Evaluate the model\n",
    "accuracy = accuracy_score(y_test, y_pred)\n",
    "print(\"Accuracy:\", accuracy)\n",
    "print(\"\\nClassification Report:\")\n",
    "print(classification_report(y_test, y_pred))\n",
    "print(\"\\nConfusion Matrix:\")\n",
    "print(confusion_matrix(y_test, y_pred))\n",
    "\n",
    "\n",
    "# Save the model\n",
    "pickle.dump(model, open('model.pkl', 'wb'))"
   ]
  },
  {
   "cell_type": "code",
   "execution_count": null,
   "metadata": {},
   "outputs": [],
   "source": []
  },
  {
   "cell_type": "code",
   "execution_count": null,
   "metadata": {},
   "outputs": [],
   "source": []
  },
  {
   "cell_type": "code",
   "execution_count": null,
   "metadata": {},
   "outputs": [],
   "source": []
  },
  {
   "cell_type": "code",
   "execution_count": null,
   "metadata": {},
   "outputs": [],
   "source": []
  },
  {
   "cell_type": "code",
   "execution_count": null,
   "metadata": {},
   "outputs": [],
   "source": []
  },
  {
   "cell_type": "code",
   "execution_count": null,
   "metadata": {},
   "outputs": [],
   "source": []
  },
  {
   "cell_type": "code",
   "execution_count": null,
   "metadata": {},
   "outputs": [],
   "source": []
  },
  {
   "cell_type": "code",
   "execution_count": null,
   "metadata": {},
   "outputs": [],
   "source": []
  },
  {
   "cell_type": "code",
   "execution_count": null,
   "metadata": {},
   "outputs": [],
   "source": []
  },
  {
   "cell_type": "code",
   "execution_count": null,
   "metadata": {},
   "outputs": [],
   "source": []
  },
  {
   "cell_type": "code",
   "execution_count": null,
   "metadata": {},
   "outputs": [],
   "source": []
  },
  {
   "cell_type": "code",
   "execution_count": null,
   "metadata": {},
   "outputs": [],
   "source": []
  },
  {
   "cell_type": "code",
   "execution_count": null,
   "metadata": {},
   "outputs": [],
   "source": []
  },
  {
   "cell_type": "code",
   "execution_count": null,
   "metadata": {},
   "outputs": [],
   "source": []
  },
  {
   "cell_type": "code",
   "execution_count": null,
   "metadata": {},
   "outputs": [],
   "source": []
  },
  {
   "cell_type": "code",
   "execution_count": null,
   "metadata": {},
   "outputs": [],
   "source": []
  },
  {
   "cell_type": "code",
   "execution_count": null,
   "metadata": {},
   "outputs": [],
   "source": []
  },
  {
   "cell_type": "code",
   "execution_count": null,
   "metadata": {},
   "outputs": [],
   "source": []
  },
  {
   "cell_type": "code",
   "execution_count": null,
   "metadata": {},
   "outputs": [],
   "source": []
  },
  {
   "cell_type": "markdown",
   "metadata": {},
   "source": [
    "RANDOM FOREST"
   ]
  },
  {
   "cell_type": "markdown",
   "metadata": {},
   "source": [
    "# Initialize and train the random forest model\n",
    "rf_model = RandomForestClassifier(n_estimators=100, random_state=42)\n",
    "rf_model.fit(X_train, y_train)\n",
    "\n",
    "# Make predictions\n",
    "y_pred_rf = rf_model.predict(X_test)\n",
    "\n",
    "# Evaluate the model\n",
    "accuracy_rf = accuracy_score(y_test, y_pred_rf)\n",
    "print(\"Random Forest Accuracy:\", accuracy_rf)\n",
    "print(\"\\nClassification Report:\")\n",
    "print(classification_report(y_test, y_pred_rf))\n",
    "print(\"\\nConfusion Matrix:\")\n",
    "print(confusion_matrix(y_test, y_pred_rf))\n",
    "print(\"ROC AUC Score:\", roc_auc_score(y_test, rf_model.predict_proba(X_test)[:,1]))"
   ]
  },
  {
   "cell_type": "markdown",
   "metadata": {},
   "source": [
    "GRADIENT BOOSTING MACHINES (GBM)"
   ]
  },
  {
   "cell_type": "markdown",
   "metadata": {},
   "source": [
    "# Initialize and train the XGBoost model\n",
    "xgb_model = XGBClassifier()\n",
    "xgb_model.fit(X_train, y_train)\n",
    "\n",
    "# Make predictions\n",
    "y_pred_xgb = xgb_model.predict(X_test)\n",
    "\n",
    "# Evaluate the model\n",
    "accuracy_xgb = accuracy_score(y_test, y_pred_xgb)\n",
    "print(\"XGBoost Accuracy:\", accuracy_xgb)\n",
    "print(\"\\nClassification Report:\")\n",
    "print(classification_report(y_test, y_pred_xgb))\n",
    "print(\"\\nConfusion Matrix:\")\n",
    "print(confusion_matrix(y_test, y_pred_xgb))"
   ]
  },
  {
   "cell_type": "markdown",
   "metadata": {},
   "source": [
    "# Step 3: Tune hyperparameters for Random Forest\n",
    "rf_param_grid = {'n_estimators': [100, 200, 300],\n",
    "                 'max_depth': [None, 5, 10, 20],\n",
    "                 'min_samples_leaf': [1, 2, 4]}\n",
    "rf_grid_search = GridSearchCV(rf_model, rf_param_grid, cv=5, scoring='accuracy')\n",
    "rf_grid_search.fit(X_train, y_train)\n",
    "print(\"Best Parameters for Random Forest:\", rf_grid_search.best_params_)\n",
    "best_rf_model = rf_grid_search.best_estimator_"
   ]
  },
  {
   "cell_type": "markdown",
   "metadata": {},
   "source": [
    "# Step 4: Feature Importance Analysis for Random Forest\n",
    "feature_importances = best_rf_model.feature_importances_\n",
    "feature_names = X_train.columns\n",
    "feature_importance_df = pd.DataFrame({'Feature': feature_names, 'Importance': feature_importances})\n",
    "print(\"Feature Importances for Random Forest:\\n\", feature_importance_df)"
   ]
  },
  {
   "cell_type": "markdown",
   "metadata": {},
   "source": [
    "# Step 5: Address Class Imbalance (if applicable)\n",
    "# For example, if there's class imbalance, you can upsample the minority class\n",
    "X_train_balanced, y_train_balanced = resample(X_train[y_train == 1], y_train[y_train == 1], \n",
    "                                              replace=True, n_samples=sum(y_train == 0), random_state=42)\n",
    "X_train_balanced = pd.concat([X_train[y_train == 0], X_train_balanced])\n",
    "y_train_balanced = pd.concat([y_train[y_train == 0], y_train_balanced])"
   ]
  },
  {
   "cell_type": "markdown",
   "metadata": {},
   "source": [
    "# Step 6: Train and evaluate XGBoost Classifier\n",
    "xgb_clf = XGBClassifier()\n",
    "xgb_clf.fit(X_train, y_train)\n",
    "xgb_preds = xgb_clf.predict(X_test)"
   ]
  },
  {
   "cell_type": "markdown",
   "metadata": {},
   "source": [
    "# Evaluate performance\n",
    "print(\"XGBoost Classifier Performance:\")\n",
    "print(\"Accuracy:\", accuracy_score(y_test, xgb_preds))\n",
    "print(\"Classification Report:\\n\", classification_report(y_test, xgb_preds))\n",
    "print(\"Confusion Matrix:\\n\", confusion_matrix(y_test, xgb_preds))\n",
    "print(\"ROC AUC Score:\", roc_auc_score(y_test, xgb_clf.predict_proba(X_test)[:,1]))"
   ]
  },
  {
   "cell_type": "markdown",
   "metadata": {},
   "source": [
    "# Step 7: Model Interpretability with SHAP values\n",
    "explainer = shap.TreeExplainer(best_rf_model)  # For Random Forest\n",
    "shap_values = explainer.shap_values(X_test)\n",
    "shap.summary_plot(shap_values, X_test, feature_names=feature_names)"
   ]
  },
  {
   "cell_type": "markdown",
   "metadata": {},
   "source": [
    "app = Flask(__app.py__)\n",
    "\n",
    "# Load the pre-trained model\n",
    "model = pickle.load(open('model.pkl', 'rb'))\n",
    "\n",
    "@app.route('/')\n",
    "def home():\n",
    "    return render_template('index.html')\n",
    "\n",
    "@app.route('/predict', methods=['POST'])\n",
    "def predict():\n",
    "    # Get user input from the form\n",
    "    age = int(request.form['age'])\n",
    "    monthly_income = int(request.form['monthly_income'])\n",
    "    family_size = int(request.form['family_size'])\n",
    "\n",
    "    # Make prediction using the model\n",
    "    prediction = model.predict([[age, monthly_income, family_size]])\n",
    "\n",
    "    # Map prediction to human-readable output\n",
    "    output = \"Satisfied\" if prediction[0] == 1 else \"Not Satisfied\"\n",
    "\n",
    "    return render_template('index.html', prediction_text='Customer is {}'.format(output))\n",
    "\n",
    "if __name__ == '__main__':\n",
    "    app.run(debug=True)"
   ]
  },
  {
   "cell_type": "code",
   "execution_count": null,
   "metadata": {},
   "outputs": [],
   "source": []
  },
  {
   "cell_type": "code",
   "execution_count": null,
   "metadata": {},
   "outputs": [],
   "source": []
  }
 ],
 "metadata": {
  "kernelspec": {
   "display_name": "Python 3",
   "language": "python",
   "name": "python3"
  },
  "language_info": {
   "codemirror_mode": {
    "name": "ipython",
    "version": 3
   },
   "file_extension": ".py",
   "mimetype": "text/x-python",
   "name": "python",
   "nbconvert_exporter": "python",
   "pygments_lexer": "ipython3",
   "version": "3.11.1"
  }
 },
 "nbformat": 4,
 "nbformat_minor": 2
}
